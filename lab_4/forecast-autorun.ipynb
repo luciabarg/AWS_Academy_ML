{
 "cells": [
  {
   "cell_type": "markdown",
   "metadata": {},
   "source": [
    "# AWS Academy Machine Learning Foundations - Amazon Forecast Lab\n",
    "\n",
    "## STOP! - This file is automatically run on lab startup. Do not attempt to run the cells!\n",
    "\n",
    "This Jupyter notebook is part of the Amazon Forecast student lab. It was ran when the lab was created.\n",
    "\n",
    "If you just started the lab, load `forecast-lab.ipynb` and work through that notebook instead of this one.\n",
    "\n",
    "If you were directed to this file, read through the cells and explanations. Avoid running the cells.\n"
   ]
  },
  {
   "cell_type": "markdown",
   "metadata": {},
   "source": [
    "## Notebook summary\n",
    "\n",
    "This notebook loads and preprocesses the online retail dataset. The data is uploaded to Amazon Simple Storage Service (Amazon S3), where it is used to create a forecast through Amazon Forecast. The notebook performs the following steps:\n",
    "\n",
    "- **Importing and functions** imports the packages used and creates helper functions.\n",
    "- **Importing data** downloads and loads the data into a pandas DataFrame.\n",
    "- **Data preprocessing** filters the data that is ready for training\n",
    "- **Generating training and testing DataFrames** downsamples the data to a daily frequency and splits the dataset into training and testing DataFrames.\n",
    "- **Uploading to Amazon S3** uploads the DataFrames to Amazon S3 as comma-separated values (CSV) files.\n",
    "- **Creating the Amazon Forecast dataset group** creates the project dataset group.\n",
    "- **Creating the datasets** creates the datasets in the dataset group and waits for the import to complete.\n",
    "- **Creating the predictor** trains the predictor by using the dataset group.\n",
    "- **Getting accuracy metrics** displays the metrics for the predictor.\n",
    "- **Creating the forecast** creates a test forecast.\n",
    "- **Optional cleanup** can perform a cleanup if it isn't completed in the `forecast-lab.ipynb` notebook.\n",
    "\n",
    "This notebook takes between 60–90 minutes to complete.\n"
   ]
  },
  {
   "cell_type": "markdown",
   "metadata": {},
   "source": [
    "## Importing and functions\n",
    "\n",
    "The following code imports these packages:\n",
    "\n",
    "- *boto3* represents the AWS SDK for Python (Boto3), which is the Python library for AWS\n",
    "- *pandas* provides DataFrames for manipulating time series data\n",
    "- *matplotlib* provides plotting functions\n",
    "- *sagemaker* represents the API that's needed to work with Amazon SageMaker\n",
    "- *time*, *sys*, *os*, *io*, and *json* provide helper functions \n",
    "\n",
    "In addition, two helper functions are created:\n",
    "\n",
    "- `upload_s3_csv` uploads pandas DataFrames to Amazon S3 as CSV files. The header is removed, but *not* the index.\n",
    "- `StatusIndicator` provides a status function for long-running API calls to Amazon Forecast.\n",
    "\n"
   ]
  },
  {
   "cell_type": "code",
   "execution_count": 1,
   "metadata": {},
   "outputs": [
    {
     "name": "stdout",
     "output_type": "stream",
     "text": [
      "Stored 'bucket_name' (str)\n"
     ]
    }
   ],
   "source": [
    "import warnings\n",
    "warnings.filterwarnings('ignore')\n",
    "bucket_name='c21441a262206u1000135t1w6417122524-forecastbucket-1p6dp5m96nngh'\n",
    "\n",
    "import boto3\n",
    "import pandas as pd\n",
    "import matplotlib\n",
    "import matplotlib.pyplot as plt\n",
    "import time, sys, os, io, json\n",
    "import sagemaker\n",
    "\n",
    "%store bucket_name\n",
    "\n",
    "s3_resource = boto3.Session().resource('s3')\n",
    "\n",
    "def upload_s3_csv(filename, folder, dataframe):\n",
    "    csv_buffer = io.StringIO()\n",
    "    dataframe.to_csv(filename, header=False, index=True)\n",
    "    dataframe.to_csv(csv_buffer, header=False, index=True )\n",
    "    s3_resource.Bucket(bucket_name).Object(os.path.join(prefix, folder, filename)).put(Body=csv_buffer.getvalue())\n",
    "\n",
    "class StatusIndicator:\n",
    "    \n",
    "    def __init__(self):\n",
    "        self.previous_status = None\n",
    "        self.need_newline = False\n",
    "        \n",
    "    def update( self, status ):\n",
    "        if self.previous_status != status:\n",
    "            if self.need_newline:\n",
    "                sys.stdout.write(\"\\n\")\n",
    "            sys.stdout.write( status + \" \")\n",
    "            self.need_newline = True\n",
    "            self.previous_status = status\n",
    "        else:\n",
    "            sys.stdout.write(\".\")\n",
    "            self.need_newline = True\n",
    "        sys.stdout.flush()\n",
    "\n",
    "    def end(self):\n",
    "        if self.need_newline:\n",
    "            sys.stdout.write(\"\\n\")"
   ]
  },
  {
   "cell_type": "markdown",
   "metadata": {},
   "source": [
    "## Importing data\n",
    "\n",
    "The following cell downloads the dataset, which is an Microsoft Excel file. This file is loaded into pandas as a DataFrame."
   ]
  },
  {
   "cell_type": "code",
   "execution_count": 2,
   "metadata": {},
   "outputs": [
    {
     "name": "stdout",
     "output_type": "stream",
     "text": [
      "download: s3://aws-tc-largeobjects/CUR-TF-200-ACMLFO-1/forecast/online_retail_II.xlsx to autorun/online_retail_II.xlsx\r\n"
     ]
    }
   ],
   "source": [
    "\n",
    "session = boto3.Session()\n",
    "forecast = session.client(service_name='forecast') \n",
    "forecast_query = session.client(service_name='forecastquery')\n",
    "!mkdir autorun\n",
    "!aws s3 cp s3://aws-tc-largeobjects/CUR-TF-200-ACMLFO-1/forecast/ ./autorun/ --recursive\n"
   ]
  },
  {
   "cell_type": "markdown",
   "metadata": {},
   "source": [
    "## Data preprocessing\n",
    "\n",
    "The following cell completes the following preprocessing steps:\n",
    "\n",
    "- Removes instances with missing values\n",
    "- Sets the index to the InvoiceDate feature\n",
    "- Removes instances that aren't from the United Kingdom\n",
    "- Removes instances that don't use the target stock code (21232)\n",
    "- Keeps instances where the price is greater than 0\n",
    "\n"
   ]
  },
  {
   "cell_type": "code",
   "execution_count": 3,
   "metadata": {},
   "outputs": [],
   "source": [
    "retail = pd.read_excel('autorun/online_retail_II.xlsx')\n",
    "retail = retail.dropna()\n",
    "retail['InvoiceDate'] = pd.to_datetime(retail.InvoiceDate)\n",
    "retail = retail.set_index('InvoiceDate')\n",
    "\n",
    "country_filter = ['United Kingdom']\n",
    "retail = retail[retail['Country'].isin(country_filter)]\n",
    "\n",
    "#stockcodes = ['ADJUST', 'ADJUST2', 'POST', 'M']\n",
    "#stockcodes = [21232,22423]\n",
    "stockcodes = [21232]\n",
    "retail = retail[retail.StockCode.isin(stockcodes)]\n",
    "\n",
    "retail = retail[retail['Price']>0]"
   ]
  },
  {
   "cell_type": "markdown",
   "metadata": {},
   "source": [
    "## Generating the training and testing DataFrames\n",
    "\n",
    "The following cell:\n",
    "\n",
    "- Splits the data into time series and related times series pandas DataFrames.\n",
    "- Downsamples the data from multiple sales entries per day into a single daily value. The **Quantity** column is summed, and the mean is used for the **Price** column.\n",
    "- Splits the DataFrames into a training set of data from January 2010–October 2010, and a testing set of data from November 2010–December 2010.\n",
    "\n"
   ]
  },
  {
   "cell_type": "code",
   "execution_count": 4,
   "metadata": {},
   "outputs": [],
   "source": [
    "\n",
    "retail_timeseries = retail[['StockCode','Quantity']]\n",
    "\n",
    "retail_timeseries = retail_timeseries.groupby('StockCode').resample('D').sum().reset_index().set_index(['InvoiceDate'])\n",
    "\n",
    "df_related_time_series = retail[['StockCode','Price']]\n",
    "df_related_time_series2 = df_related_time_series.groupby('StockCode').resample('D').mean().reset_index().set_index(['InvoiceDate'])\n",
    "df_related_time_series3 = df_related_time_series2.groupby('StockCode').pad()\n",
    "\n",
    "#df_related_time_series4 = df_related_time_series3.reset_index().set_index('InvoiceDate')\n",
    "\n",
    "# Select January to November for one DataFrame.\n",
    "jan_to_oct = retail_timeseries['2009-12':'2010-10']\n",
    "nov_to_dec = retail_timeseries['2010-11':'2010-12']\n",
    "jan_to_oct_related = df_related_time_series2['2009-12':'2010-10']"
   ]
  },
  {
   "cell_type": "code",
   "execution_count": 5,
   "metadata": {},
   "outputs": [
    {
     "data": {
      "text/html": [
       "<div>\n",
       "<style scoped>\n",
       "    .dataframe tbody tr th:only-of-type {\n",
       "        vertical-align: middle;\n",
       "    }\n",
       "\n",
       "    .dataframe tbody tr th {\n",
       "        vertical-align: top;\n",
       "    }\n",
       "\n",
       "    .dataframe thead th {\n",
       "        text-align: right;\n",
       "    }\n",
       "</style>\n",
       "<table border=\"1\" class=\"dataframe\">\n",
       "  <thead>\n",
       "    <tr style=\"text-align: right;\">\n",
       "      <th></th>\n",
       "      <th>StockCode</th>\n",
       "      <th>Price</th>\n",
       "    </tr>\n",
       "    <tr>\n",
       "      <th>InvoiceDate</th>\n",
       "      <th></th>\n",
       "      <th></th>\n",
       "    </tr>\n",
       "  </thead>\n",
       "  <tbody>\n",
       "    <tr>\n",
       "      <th>2009-12-01</th>\n",
       "      <td>21232</td>\n",
       "      <td>1.250000</td>\n",
       "    </tr>\n",
       "    <tr>\n",
       "      <th>2009-12-02</th>\n",
       "      <td>21232</td>\n",
       "      <td>1.186667</td>\n",
       "    </tr>\n",
       "    <tr>\n",
       "      <th>2009-12-03</th>\n",
       "      <td>21232</td>\n",
       "      <td>1.234167</td>\n",
       "    </tr>\n",
       "    <tr>\n",
       "      <th>2009-12-04</th>\n",
       "      <td>21232</td>\n",
       "      <td>1.234167</td>\n",
       "    </tr>\n",
       "    <tr>\n",
       "      <th>2009-12-05</th>\n",
       "      <td>21232</td>\n",
       "      <td>1.250000</td>\n",
       "    </tr>\n",
       "  </tbody>\n",
       "</table>\n",
       "</div>"
      ],
      "text/plain": [
       "             StockCode     Price\n",
       "InvoiceDate                     \n",
       "2009-12-01       21232  1.250000\n",
       "2009-12-02       21232  1.186667\n",
       "2009-12-03       21232  1.234167\n",
       "2009-12-04       21232  1.234167\n",
       "2009-12-05       21232  1.250000"
      ]
     },
     "execution_count": 5,
     "metadata": {},
     "output_type": "execute_result"
    }
   ],
   "source": [
    "df_related_time_series2.head()"
   ]
  },
  {
   "cell_type": "markdown",
   "metadata": {},
   "source": [
    "## Uploading to Amazon S3\n",
    "\n",
    "The following cell uploads the DataFrames to Amazon S3 by using the helper function that was created earlier."
   ]
  },
  {
   "cell_type": "code",
   "execution_count": 6,
   "metadata": {},
   "outputs": [],
   "source": [
    "\n",
    "prefix='lab_4'\n",
    "train='autorun/retail_ts_train.csv'\n",
    "train_related='autorun/related_ts_train.csv'\n",
    "test='autorun/retail_ts_test.csv'\n",
    "\n",
    "key=prefix + '/forecast/' + train\n",
    "# key='lab_4_forecast_t/forecast/retail_time_series_train.csv'\n",
    "related_key = prefix + '/forecast/' + train_related\n",
    "# related_key='lab_4_forecast_t/forecast/related.csv'\n",
    "\n",
    "upload_s3_csv(train, 'forecast', jan_to_oct)\n",
    "upload_s3_csv(train_related, 'forecast', jan_to_oct_related)\n",
    "upload_s3_csv(test, 'forecast', nov_to_dec)\n",
    "\n",
    "dataset_frequency = \"D\" \n",
    "timestamp_format = \"yyyy-MM-dd\"\n",
    "\n",
    "# project = prefix\n",
    "dataset_name = prefix+'_ds'\n",
    "related_dataset_name = prefix+'_rds'\n",
    "dataset_group_name = prefix +'_dsg'\n",
    "\n",
    "s3_data_path = \"s3://\"+bucket_name+\"/\"+key\n",
    "s3_related_data_path = \"s3://\"+bucket_name+\"/\"+related_key"
   ]
  },
  {
   "cell_type": "code",
   "execution_count": 7,
   "metadata": {},
   "outputs": [
    {
     "data": {
      "text/html": [
       "<div>\n",
       "<style scoped>\n",
       "    .dataframe tbody tr th:only-of-type {\n",
       "        vertical-align: middle;\n",
       "    }\n",
       "\n",
       "    .dataframe tbody tr th {\n",
       "        vertical-align: top;\n",
       "    }\n",
       "\n",
       "    .dataframe thead th {\n",
       "        text-align: right;\n",
       "    }\n",
       "</style>\n",
       "<table border=\"1\" class=\"dataframe\">\n",
       "  <thead>\n",
       "    <tr style=\"text-align: right;\">\n",
       "      <th></th>\n",
       "      <th>StockCode</th>\n",
       "      <th>Price</th>\n",
       "    </tr>\n",
       "    <tr>\n",
       "      <th>InvoiceDate</th>\n",
       "      <th></th>\n",
       "      <th></th>\n",
       "    </tr>\n",
       "  </thead>\n",
       "  <tbody>\n",
       "    <tr>\n",
       "      <th>2009-12-01</th>\n",
       "      <td>21232</td>\n",
       "      <td>1.250000</td>\n",
       "    </tr>\n",
       "    <tr>\n",
       "      <th>2009-12-02</th>\n",
       "      <td>21232</td>\n",
       "      <td>1.186667</td>\n",
       "    </tr>\n",
       "    <tr>\n",
       "      <th>2009-12-03</th>\n",
       "      <td>21232</td>\n",
       "      <td>1.234167</td>\n",
       "    </tr>\n",
       "    <tr>\n",
       "      <th>2009-12-04</th>\n",
       "      <td>21232</td>\n",
       "      <td>1.234167</td>\n",
       "    </tr>\n",
       "    <tr>\n",
       "      <th>2009-12-05</th>\n",
       "      <td>21232</td>\n",
       "      <td>1.250000</td>\n",
       "    </tr>\n",
       "  </tbody>\n",
       "</table>\n",
       "</div>"
      ],
      "text/plain": [
       "             StockCode     Price\n",
       "InvoiceDate                     \n",
       "2009-12-01       21232  1.250000\n",
       "2009-12-02       21232  1.186667\n",
       "2009-12-03       21232  1.234167\n",
       "2009-12-04       21232  1.234167\n",
       "2009-12-05       21232  1.250000"
      ]
     },
     "execution_count": 7,
     "metadata": {},
     "output_type": "execute_result"
    }
   ],
   "source": [
    "jan_to_oct_related.head()"
   ]
  },
  {
   "cell_type": "code",
   "execution_count": 8,
   "metadata": {},
   "outputs": [
    {
     "name": "stdout",
     "output_type": "stream",
     "text": [
      "Stored 'prefix' (str)\n",
      "Stored 'train' (str)\n",
      "Stored 'test' (str)\n",
      "Stored 'key' (str)\n"
     ]
    }
   ],
   "source": [
    "\n",
    "%store prefix\n",
    "%store train\n",
    "%store test\n",
    "%store key"
   ]
  },
  {
   "cell_type": "markdown",
   "metadata": {},
   "source": [
    "## Creating the Amazon Forecast dataset group\n",
    "\n",
    "The following cell creates the dataset group for the forecast."
   ]
  },
  {
   "cell_type": "code",
   "execution_count": 9,
   "metadata": {},
   "outputs": [],
   "source": [
    "dataset_group_arn = None\n",
    "dsgs = forecast.list_dataset_groups()\n",
    "for dsg in dsgs['DatasetGroups']:\n",
    "    if dsg['DatasetGroupName']==dataset_group_name:\n",
    "        dataset_group_arn=dsg['DatasetGroupArn']"
   ]
  },
  {
   "cell_type": "code",
   "execution_count": 10,
   "metadata": {},
   "outputs": [],
   "source": [
    "if dataset_group_arn is None:\n",
    "    create_dataset_group_response = forecast.create_dataset_group(DatasetGroupName=dataset_group_name, Domain=\"RETAIL\" )\n",
    "    dataset_group_arn = create_dataset_group_response['DatasetGroupArn']"
   ]
  },
  {
   "cell_type": "markdown",
   "metadata": {},
   "source": [
    "## Creating the datasets\n",
    "\n",
    "The following cell creates the time series and related datasets, and adds them to the dataset group.\n",
    "\n",
    "The cell will wait loop and display the status until the datasets are created."
   ]
  },
  {
   "cell_type": "code",
   "execution_count": 11,
   "metadata": {},
   "outputs": [],
   "source": [
    "iam = boto3.resource('iam')\n",
    "role_arn = iam.Role('ForecastRole').arn\n",
    "\n",
    "# This is the schema of the time series dataset.\n",
    "schema ={\n",
    "   \"Attributes\":[\n",
    "      {\n",
    "         \"AttributeName\":\"timestamp\",\n",
    "         \"AttributeType\":\"timestamp\"\n",
    "      },\n",
    "      {\n",
    "         \"AttributeName\":\"item_id\",\n",
    "         \"AttributeType\":\"string\"\n",
    "      },\n",
    "      {\n",
    "         \"AttributeName\":\"demand\",\n",
    "         \"AttributeType\":\"float\"\n",
    "      }\n",
    "   ]\n",
    "}"
   ]
  },
  {
   "cell_type": "code",
   "execution_count": 12,
   "metadata": {},
   "outputs": [],
   "source": [
    "dataset_arn = None\n",
    "dataset_list = forecast.list_datasets()\n",
    "for dataset in dataset_list['Datasets']:\n",
    "    if dataset['DatasetName']==dataset_name:\n",
    "        dataset_arn = dataset['DatasetArn']"
   ]
  },
  {
   "cell_type": "code",
   "execution_count": 13,
   "metadata": {},
   "outputs": [],
   "source": [
    "if dataset_arn is None:\n",
    "    time_series_response=forecast.create_dataset(\n",
    "                        Domain=\"RETAIL\",\n",
    "                        DatasetType='TARGET_TIME_SERIES',\n",
    "                        DatasetName=dataset_name,\n",
    "                        DataFrequency=dataset_frequency, \n",
    "                        Schema = schema\n",
    "    )\n",
    "\n",
    "    dataset_arn = time_series_response['DatasetArn']"
   ]
  },
  {
   "cell_type": "code",
   "execution_count": 14,
   "metadata": {},
   "outputs": [],
   "source": [
    "# Create the import job for the time series dataset.\n",
    "dataset_import_job_name = 'EP_DSIMPORT_JOB_TARGET'\n",
    "ds_import_job_arn = None\n",
    "dataset_import_job_list = forecast.list_dataset_import_jobs()\n",
    "\n",
    "for dataset_import_job in dataset_import_job_list['DatasetImportJobs']:\n",
    "    if dataset_import_job['DatasetImportJobName'] == dataset_import_job_name:\n",
    "        ds_import_job_arn = dataset_import_job['DatasetImportJobArn']"
   ]
  },
  {
   "cell_type": "code",
   "execution_count": 15,
   "metadata": {},
   "outputs": [],
   "source": [
    "# If the import job doesn't already exist, create it\n",
    "if ds_import_job_arn is None:\n",
    "    data_source = {\"S3Config\" : {\"Path\":s3_data_path,\"RoleArn\": role_arn} }\n",
    "    ds_import_job_response=forecast.create_dataset_import_job(DatasetImportJobName=dataset_import_job_name,\n",
    "                                                          DatasetArn=dataset_arn,\n",
    "                                                          DataSource= data_source,\n",
    "                                                          TimestampFormat=timestamp_format\n",
    "                                                         )\n",
    "    ds_import_job_arn=ds_import_job_response['DatasetImportJobArn']"
   ]
  },
  {
   "cell_type": "code",
   "execution_count": 16,
   "metadata": {},
   "outputs": [
    {
     "name": "stdout",
     "output_type": "stream",
     "text": [
      "arn:aws:forecast:us-east-1:641712252438:dataset-import-job/lab_4_ds/EP_DSIMPORT_JOB_TARGET\n"
     ]
    }
   ],
   "source": [
    "print(ds_import_job_arn)"
   ]
  },
  {
   "cell_type": "code",
   "execution_count": 17,
   "metadata": {},
   "outputs": [],
   "source": [
    "    \n",
    "# This is the schema of the related data, which contains the price.\n",
    "related_schema ={\n",
    "   \"Attributes\":[\n",
    "      {\n",
    "         \"AttributeName\":\"timestamp\",\n",
    "         \"AttributeType\":\"timestamp\"\n",
    "      },\n",
    "      {\n",
    "         \"AttributeName\":\"item_id\",\n",
    "         \"AttributeType\":\"string\"\n",
    "      },\n",
    "      {\n",
    "         \"AttributeName\":\"price\",\n",
    "         \"AttributeType\":\"float\"\n",
    "      }\n",
    "   ]\n",
    "}\n",
    "\n"
   ]
  },
  {
   "cell_type": "code",
   "execution_count": 18,
   "metadata": {},
   "outputs": [],
   "source": [
    "related_dataset_arn = None\n",
    "dataset_list = forecast.list_datasets()\n",
    "for dataset in dataset_list['Datasets']:\n",
    "   if dataset['DatasetName']==related_dataset_name:\n",
    "        related_dataset_arn = dataset['DatasetArn']"
   ]
  },
  {
   "cell_type": "code",
   "execution_count": 19,
   "metadata": {},
   "outputs": [],
   "source": [
    "if related_dataset_arn is None:\n",
    "    related_time_series_response=forecast.create_dataset(\n",
    "                        Domain=\"RETAIL\",\n",
    "                        DatasetType='RELATED_TIME_SERIES',\n",
    "                        DatasetName=related_dataset_name,\n",
    "                        DataFrequency=dataset_frequency, \n",
    "                        Schema = related_schema)\n",
    "    related_dataset_arn = related_time_series_response['DatasetArn']"
   ]
  },
  {
   "cell_type": "code",
   "execution_count": 20,
   "metadata": {},
   "outputs": [
    {
     "name": "stdout",
     "output_type": "stream",
     "text": [
      "{'DatasetImportJobArn': 'arn:aws:forecast:us-east-1:641712252438:dataset-import-job/lab_4_rds/EP_DSIMPORT_JOB_TARGET_RELATED', 'DatasetImportJobName': 'EP_DSIMPORT_JOB_TARGET_RELATED', 'DataSource': {'S3Config': {'Path': 's3://c21441a262206u1000135t1w6417122524-forecastbucket-1rrbopjl1cay3/lab_4/forecast/autorun/related_ts_train.csv', 'RoleArn': 'arn:aws:iam::641712252438:role/ForecastRole'}}, 'Status': 'ACTIVE', 'CreationTime': datetime.datetime(2020, 10, 10, 13, 16, 2, 159000, tzinfo=tzlocal()), 'LastModificationTime': datetime.datetime(2020, 10, 10, 13, 30, 43, 629000, tzinfo=tzlocal())}\n",
      "{'DatasetImportJobArn': 'arn:aws:forecast:us-east-1:641712252438:dataset-import-job/lab_4_ds/EP_DSIMPORT_JOB_TARGET', 'DatasetImportJobName': 'EP_DSIMPORT_JOB_TARGET', 'DataSource': {'S3Config': {'Path': 's3://c21441a262206u1000135t1w6417122524-forecastbucket-1rrbopjl1cay3/lab_4/forecast/autorun/retail_ts_train.csv', 'RoleArn': 'arn:aws:iam::641712252438:role/ForecastRole'}}, 'Status': 'ACTIVE', 'CreationTime': datetime.datetime(2020, 10, 10, 13, 16, 1, 430000, tzinfo=tzlocal()), 'LastModificationTime': datetime.datetime(2020, 10, 10, 13, 30, 43, 622000, tzinfo=tzlocal())}\n"
     ]
    }
   ],
   "source": [
    "# forecast.describe_dataset(DatasetArn=related_dataset_arn)\n",
    "\n",
    "\n",
    "related_dataset_import_job_name = 'EP_DSIMPORT_JOB_TARGET_RELATED'\n",
    "ds_related_import_job_arn = None\n",
    "related_data_source = {\"S3Config\" : {\"Path\":s3_related_data_path,\"RoleArn\": role_arn} }\n",
    "\n",
    "dataset_import_job_list = forecast.list_dataset_import_jobs()\n",
    "\n",
    "for dataset_import_job in dataset_import_job_list['DatasetImportJobs']:\n",
    "    print(dataset_import_job)\n",
    "    if dataset_import_job['DatasetImportJobName']==related_dataset_import_job_name:\n",
    "        if dataset_import_job['Status'] == 'ACTIVE':\n",
    "            ds_related_import_job_arn = dataset_import_job['DatasetImportJobArn']\n",
    "        elif dataset_import_job['Status'] in ['CREATE_FAILED']:\n",
    "            forecast.delete_dataset_import_job(DatasetImportJobArn=dataset_import_job['DatasetImportJobArn'])\n",
    "            time.sleep(60)\n",
    "        else:\n",
    "            pass\n",
    "            "
   ]
  },
  {
   "cell_type": "code",
   "execution_count": 21,
   "metadata": {},
   "outputs": [
    {
     "name": "stdout",
     "output_type": "stream",
     "text": [
      "arn:aws:forecast:us-east-1:641712252438:dataset-import-job/lab_4_rds/EP_DSIMPORT_JOB_TARGET_RELATED\n"
     ]
    }
   ],
   "source": [
    "print(ds_related_import_job_arn)"
   ]
  },
  {
   "cell_type": "code",
   "execution_count": 22,
   "metadata": {},
   "outputs": [],
   "source": [
    "\n",
    "if ds_related_import_job_arn is None:\n",
    "    ds_related_import_job_response=forecast.create_dataset_import_job(DatasetImportJobName=related_dataset_import_job_name,\n",
    "                                                          DatasetArn=related_dataset_arn,\n",
    "                                                          DataSource= related_data_source,\n",
    "                                                          TimestampFormat=timestamp_format\n",
    "                                                         )\n",
    "    ds_related_import_job_arn=ds_related_import_job_response['DatasetImportJobArn']"
   ]
  },
  {
   "cell_type": "code",
   "execution_count": 23,
   "metadata": {},
   "outputs": [
    {
     "name": "stdout",
     "output_type": "stream",
     "text": [
      "{'DatasetGroupName': 'lab_4_dsg', 'DatasetGroupArn': 'arn:aws:forecast:us-east-1:641712252438:dataset-group/lab_4_dsg', 'DatasetArns': ['arn:aws:forecast:us-east-1:641712252438:dataset/lab_4_ds', 'arn:aws:forecast:us-east-1:641712252438:dataset/lab_4_rds'], 'Domain': 'RETAIL', 'Status': 'ACTIVE', 'CreationTime': datetime.datetime(2020, 10, 10, 13, 15, 59, 678000, tzinfo=tzlocal()), 'LastModificationTime': datetime.datetime(2020, 10, 10, 14, 28, 35, 628000, tzinfo=tzlocal()), 'ResponseMetadata': {'RequestId': '35f276d3-aa58-419e-94f0-358fdfd98468', 'HTTPStatusCode': 200, 'HTTPHeaders': {'content-type': 'application/x-amz-json-1.1', 'date': 'Sat, 10 Oct 2020 14:32:52 GMT', 'x-amzn-requestid': '35f276d3-aa58-419e-94f0-358fdfd98468', 'content-length': '359', 'connection': 'keep-alive'}, 'RetryAttempts': 0}}\n"
     ]
    }
   ],
   "source": [
    "# Add the time series and related dataset to the dataset group.\n",
    "dsg = forecast.describe_dataset_group(DatasetGroupArn=dataset_group_arn)\n",
    "print(dsg)"
   ]
  },
  {
   "cell_type": "code",
   "execution_count": 24,
   "metadata": {},
   "outputs": [
    {
     "name": "stdout",
     "output_type": "stream",
     "text": [
      "arn:aws:forecast:us-east-1:641712252438:dataset/lab_4_ds\n",
      "arn:aws:forecast:us-east-1:641712252438:dataset/lab_4_rds\n"
     ]
    }
   ],
   "source": [
    "print(dataset_arn)\n",
    "print(related_dataset_arn)"
   ]
  },
  {
   "cell_type": "code",
   "execution_count": 25,
   "metadata": {},
   "outputs": [
    {
     "data": {
      "text/plain": [
       "{'ResponseMetadata': {'RequestId': '187639d1-1015-45be-9dab-21137a7d4852',\n",
       "  'HTTPStatusCode': 200,\n",
       "  'HTTPHeaders': {'content-type': 'application/x-amz-json-1.1',\n",
       "   'date': 'Sat, 10 Oct 2020 14:32:52 GMT',\n",
       "   'x-amzn-requestid': '187639d1-1015-45be-9dab-21137a7d4852',\n",
       "   'content-length': '2',\n",
       "   'connection': 'keep-alive'},\n",
       "  'RetryAttempts': 0}}"
      ]
     },
     "execution_count": 25,
     "metadata": {},
     "output_type": "execute_result"
    }
   ],
   "source": [
    "forecast.update_dataset_group(DatasetGroupArn=dataset_group_arn, DatasetArns=[dataset_arn, related_dataset_arn])"
   ]
  },
  {
   "cell_type": "code",
   "execution_count": 26,
   "metadata": {},
   "outputs": [
    {
     "name": "stdout",
     "output_type": "stream",
     "text": [
      "ACTIVE \n"
     ]
    }
   ],
   "source": [
    "# Wait for the related dataset to finish.\n",
    "status_indicator = StatusIndicator()\n",
    "\n",
    "while True:\n",
    "    status = forecast.describe_dataset_import_job(DatasetImportJobArn=ds_related_import_job_arn)['Status']\n",
    "    status_indicator.update(status)\n",
    "    if status in ('ACTIVE', 'CREATE_FAILED'): break\n",
    "    time.sleep(10)\n",
    "\n",
    "status_indicator.end()"
   ]
  },
  {
   "cell_type": "code",
   "execution_count": 27,
   "metadata": {},
   "outputs": [
    {
     "name": "stdout",
     "output_type": "stream",
     "text": [
      "ACTIVE \n"
     ]
    }
   ],
   "source": [
    "# Wait for the time series dataset to finish. This process typically takes longer than the related set.\n",
    "status_indicator = StatusIndicator()\n",
    "\n",
    "while True:\n",
    "    status = forecast.describe_dataset_import_job(DatasetImportJobArn=ds_import_job_arn)['Status']\n",
    "    status_indicator.update(status)\n",
    "    if status in ('ACTIVE', 'CREATE_FAILED'): break\n",
    "    time.sleep(10)\n",
    "\n",
    "status_indicator.end()"
   ]
  },
  {
   "cell_type": "markdown",
   "metadata": {},
   "source": [
    "The following cell stores the Amazon Resource Names (ARNs) for the forecast objects that were created previously. They can be loaded from other notebooks."
   ]
  },
  {
   "cell_type": "code",
   "execution_count": 28,
   "metadata": {},
   "outputs": [
    {
     "name": "stdout",
     "output_type": "stream",
     "text": [
      "Stored 'ds_import_job_arn' (str)\n",
      "Stored 'dataset_arn' (str)\n",
      "Stored 'dataset_group_arn' (str)\n",
      "Stored 'related_dataset_arn' (str)\n",
      "Stored 'ds_related_import_job_arn' (str)\n"
     ]
    }
   ],
   "source": [
    "%store ds_import_job_arn\n",
    "%store dataset_arn\n",
    "%store dataset_group_arn\n",
    "%store related_dataset_arn\n",
    "%store ds_related_import_job_arn"
   ]
  },
  {
   "cell_type": "markdown",
   "metadata": {},
   "source": [
    "## Creating the predictor\n",
    "\n",
    "The following cell creates the predictor by using the following parameters:\n",
    "\n",
    "- The forecast horizon is set to *30 days*.\n",
    "- *DeepAR+* is the selected algorithm. For more information, see [DeepAR+ Algorithm](https://docs.aws.amazon.com/forecast/latest/dg/aws-forecast-recipe-deeparplus.html) in the AWS Documentation.\n",
    "- Hyperparameters are specified for the algorithm. These hyperparameters were generated by running the forecast with PerformHPO set to *true*. This created a hyperparameter tuning job on the model, which produced the values that follow.\n",
    "- A single backtest window for *30 days* is used.\n",
    "- The input data configuration is set to the dataset group that was created earlier.\n",
    "- Holidays for the United Kingdom are added as supplementary features.\n",
    "- A featurization pipeline is created for the price features. For more information, see the [Handling Missing Values](https://docs.aws.amazon.com/forecast/latest/dg/howitworks-missing-values.html) topic in the AWS Documentation.\n",
    "\n",
    "The cell will wait loop and display the status until the datasets are created."
   ]
  },
  {
   "cell_type": "code",
   "execution_count": 29,
   "metadata": {},
   "outputs": [
    {
     "name": "stdout",
     "output_type": "stream",
     "text": [
      "{'PredictorArn': 'arn:aws:forecast:us-east-1:641712252438:predictor/lab_4_deeparp_algo', 'PredictorName': 'lab_4_deeparp_algo', 'DatasetGroupArn': 'arn:aws:forecast:us-east-1:641712252438:dataset-group/lab_4_dsg', 'Status': 'ACTIVE', 'CreationTime': datetime.datetime(2020, 10, 10, 13, 30, 18, 828000, tzinfo=tzlocal()), 'LastModificationTime': datetime.datetime(2020, 10, 10, 14, 28, 44, 684000, tzinfo=tzlocal())}\n",
      "Stored 'predictor_arn' (str)\n"
     ]
    }
   ],
   "source": [
    "predictor_name= prefix+'_deeparp_algo'\n",
    "forecast_horizon = 30\n",
    "algorithm_arn = 'arn:aws:forecast:::algorithm/Deep_AR_Plus'\n",
    "\n",
    "training_parameters =  {'context_length': '172', \n",
    "                        'epochs': '500', \n",
    "                        'learning_rate': '0.00023391131837525837', \n",
    "                        'learning_rate_decay': '0.5', \n",
    "                        'likelihood': 'student-t', \n",
    "                        'max_learning_rate_decays': '0', \n",
    "                        'num_averaged_models': '1', \n",
    "                        'num_cells': '40', \n",
    "                        'num_layers': '2', \n",
    "                        'prediction_length': '30'}\n",
    "\n",
    "evaluation_parameters= {\"NumberOfBacktestWindows\": 1, \"BackTestWindowOffset\": 30}\n",
    "\n",
    "input_data_config = {\"DatasetGroupArn\": dataset_group_arn, \"SupplementaryFeatures\": [ {\"Name\": \"holiday\",\"Value\": \"UK\"} ]}\n",
    "                  \n",
    "featurization_config= {\"ForecastFrequency\": dataset_frequency,\n",
    "                      \"Featurizations\": \n",
    "                      [\n",
    "                          {\n",
    "                            \"AttributeName\": \"price\",\n",
    "                            \"FeaturizationPipeline\": [\n",
    "                                {\n",
    "                                    \"FeaturizationMethodName\": \"filling\",\n",
    "                                    \"FeaturizationMethodParameters\": {\n",
    "                                        \"middlefill\": \"median\",\n",
    "                                        \"backfill\": \"min\",\n",
    "                                        \"futurefill\": \"max\"               \n",
    "                                        }\n",
    "                                }\n",
    "                            ]\n",
    "                        }\n",
    "                      ]}\n",
    "\n",
    "predictor_arn = None\n",
    "predictors = forecast.list_predictors()\n",
    "for predictor in predictors['Predictors']:\n",
    "    print(predictor)\n",
    "    if predictor['PredictorName'] == predictor_name:\n",
    "        predictor_arn = predictor['PredictorArn']\n",
    "\n",
    "if predictor_arn is None:\n",
    "    create_predictor_response=forecast.create_predictor(PredictorName = predictor_name, \n",
    "                                                  AlgorithmArn = algorithm_arn,\n",
    "                                                  ForecastHorizon = forecast_horizon,\n",
    "                                                  PerformAutoML = False,\n",
    "                                                  PerformHPO = False,\n",
    "                                                  EvaluationParameters= evaluation_parameters, \n",
    "                                                  InputDataConfig = input_data_config,\n",
    "                                                  FeaturizationConfig = featurization_config,\n",
    "                                                  TrainingParameters = training_parameters\n",
    "                                                 )\n",
    "    predictor_arn = create_predictor_response['PredictorArn']\n",
    "\n",
    "%store predictor_arn"
   ]
  },
  {
   "cell_type": "code",
   "execution_count": 30,
   "metadata": {},
   "outputs": [
    {
     "name": "stdout",
     "output_type": "stream",
     "text": [
      "ACTIVE \n"
     ]
    }
   ],
   "source": [
    "status_indicator = StatusIndicator()\n",
    "while True:\n",
    "    status = forecast.describe_predictor(PredictorArn=predictor_arn)['Status']\n",
    "    status_indicator.update(status)\n",
    "    if status in ('ACTIVE', 'CREATE_FAILED'): break\n",
    "    time.sleep(10)\n",
    "\n",
    "status_indicator.end()"
   ]
  },
  {
   "cell_type": "code",
   "execution_count": 31,
   "metadata": {},
   "outputs": [
    {
     "name": "stdout",
     "output_type": "stream",
     "text": [
      "{'context_length': '172', 'epochs': '500', 'learning_rate': '0.00023391131837525837', 'learning_rate_decay': '0.5', 'likelihood': 'student-t', 'max_learning_rate_decays': '0', 'num_averaged_models': '1', 'num_cells': '40', 'num_layers': '2', 'prediction_length': '30'}\n"
     ]
    }
   ],
   "source": [
    "f = forecast.describe_predictor(PredictorArn=predictor_arn)\n",
    "print(f['TrainingParameters'])"
   ]
  },
  {
   "cell_type": "markdown",
   "metadata": {},
   "source": [
    "## Getting accuracy metrics\n",
    "\n",
    "The next cell prints the accuracy metrics for the predictor that was just created."
   ]
  },
  {
   "cell_type": "code",
   "execution_count": 32,
   "metadata": {},
   "outputs": [
    {
     "data": {
      "text/plain": [
       "{'PredictorEvaluationResults': [{'AlgorithmArn': 'arn:aws:forecast:::algorithm/Deep_AR_Plus',\n",
       "   'TestWindows': [{'EvaluationType': 'SUMMARY',\n",
       "     'Metrics': {'RMSE': 136.29351259557902,\n",
       "      'WeightedQuantileLosses': [{'Quantile': 0.9,\n",
       "        'LossValue': 0.964454289035517},\n",
       "       {'Quantile': 0.5, 'LossValue': 0.795882229874203},\n",
       "       {'Quantile': 0.1, 'LossValue': 0.23093916598153616}]}},\n",
       "    {'TestWindowStart': datetime.datetime(2010, 10, 2, 0, 0, tzinfo=tzlocal()),\n",
       "     'TestWindowEnd': datetime.datetime(2010, 11, 1, 0, 0, tzinfo=tzlocal()),\n",
       "     'ItemCount': 1,\n",
       "     'EvaluationType': 'COMPUTED',\n",
       "     'Metrics': {'RMSE': 136.29351259557902,\n",
       "      'WeightedQuantileLosses': [{'Quantile': 0.9,\n",
       "        'LossValue': 0.964454289035517},\n",
       "       {'Quantile': 0.5, 'LossValue': 0.795882229874203},\n",
       "       {'Quantile': 0.1, 'LossValue': 0.23093916598153616}]}}]}],\n",
       " 'ResponseMetadata': {'RequestId': 'a7e887e5-243d-4382-805a-ed07c4d7458e',\n",
       "  'HTTPStatusCode': 200,\n",
       "  'HTTPHeaders': {'content-type': 'application/x-amz-json-1.1',\n",
       "   'date': 'Sat, 10 Oct 2020 14:32:52 GMT',\n",
       "   'x-amzn-requestid': 'a7e887e5-243d-4382-805a-ed07c4d7458e',\n",
       "   'content-length': '656',\n",
       "   'connection': 'keep-alive'},\n",
       "  'RetryAttempts': 0}}"
      ]
     },
     "execution_count": 32,
     "metadata": {},
     "output_type": "execute_result"
    }
   ],
   "source": [
    "forecast.get_accuracy_metrics(PredictorArn=predictor_arn)"
   ]
  },
  {
   "cell_type": "markdown",
   "metadata": {},
   "source": [
    "## Creating the forecast\n",
    "\n",
    "The following cell creates a forecast from the predictor that was created earlier. \n",
    "\n",
    "The predictor and forecast ARN values are stored so that they can be retrieved from the lab notebook.\n",
    "\n"
   ]
  },
  {
   "cell_type": "code",
   "execution_count": 33,
   "metadata": {},
   "outputs": [],
   "source": [
    "forecast_Name= prefix+'_deeparp_algo_forecast'\n",
    "forecast_arn = None\n",
    "forecasts = forecast.list_forecasts()\n",
    "for f in forecasts['Forecasts']:\n",
    "    if f['ForecastName']==forecast_Name:\n",
    "        forecast_arn = f['ForecastArn']\n",
    "        \n",
    "if forecast_arn is None:\n",
    "    create_forecast_response=forecast.create_forecast(ForecastName=forecast_Name,\n",
    "                                                  PredictorArn=predictor_arn)\n",
    "    forecast_arn = create_forecast_response['ForecastArn']"
   ]
  },
  {
   "cell_type": "code",
   "execution_count": 34,
   "metadata": {
    "tags": []
   },
   "outputs": [
    {
     "name": "stdout",
     "output_type": "stream",
     "text": [
      "Stored 'forecast_arn' (str)\n"
     ]
    }
   ],
   "source": [
    "%store forecast_arn\n"
   ]
  },
  {
   "cell_type": "code",
   "execution_count": 35,
   "metadata": {},
   "outputs": [
    {
     "name": "stdout",
     "output_type": "stream",
     "text": [
      "CREATE_IN_PROGRESS .............................................................................................................................................................................................................\n",
      "ACTIVE \n",
      "arn:aws:forecast:us-east-1:641712252438:forecast/lab_4_deeparp_algo_forecast\n"
     ]
    }
   ],
   "source": [
    "status_indicator = StatusIndicator()\n",
    "while True:\n",
    "    status = forecast.describe_forecast(ForecastArn=forecast_arn)['Status']\n",
    "    status_indicator.update(status)\n",
    "    if status in ('ACTIVE', 'CREATE_FAILED'): break\n",
    "    time.sleep(10)\n",
    "\n",
    "status_indicator.end()\n",
    "\n",
    "print(forecast_arn)"
   ]
  },
  {
   "cell_type": "markdown",
   "metadata": {},
   "source": [
    "The next cell creates a quick forecast as a test, which can be useful for troubleshooting."
   ]
  },
  {
   "cell_type": "code",
   "execution_count": 36,
   "metadata": {},
   "outputs": [
    {
     "name": "stdout",
     "output_type": "stream",
     "text": [
      "\n",
      "{'Forecast': {'Predictions': {'p10': [{'Timestamp': '2010-11-01T00:00:00', 'Value': 38.20310974121094}, {'Timestamp': '2010-11-02T00:00:00', 'Value': 83.38290405273438}, {'Timestamp': '2010-11-03T00:00:00', 'Value': 51.302642822265625}, {'Timestamp': '2010-11-04T00:00:00', 'Value': 7.839292526245117}, {'Timestamp': '2010-11-05T00:00:00', 'Value': -13.691658020019531}, {'Timestamp': '2010-11-06T00:00:00', 'Value': -30.21819305419922}, {'Timestamp': '2010-11-07T00:00:00', 'Value': -0.5739364624023438}, {'Timestamp': '2010-11-08T00:00:00', 'Value': 2.9600830078125}, {'Timestamp': '2010-11-09T00:00:00', 'Value': 23.53927993774414}, {'Timestamp': '2010-11-10T00:00:00', 'Value': 13.805095672607422}, {'Timestamp': '2010-11-11T00:00:00', 'Value': 14.152664184570312}, {'Timestamp': '2010-11-12T00:00:00', 'Value': 11.881245613098145}, {'Timestamp': '2010-11-13T00:00:00', 'Value': -3.0414953231811523}, {'Timestamp': '2010-11-14T00:00:00', 'Value': 46.98463439941406}, {'Timestamp': '2010-11-15T00:00:00', 'Value': 56.68545913696289}, {'Timestamp': '2010-11-16T00:00:00', 'Value': 66.73223876953125}, {'Timestamp': '2010-11-17T00:00:00', 'Value': 24.075775146484375}, {'Timestamp': '2010-11-18T00:00:00', 'Value': 27.664241790771484}, {'Timestamp': '2010-11-19T00:00:00', 'Value': 19.866788864135742}, {'Timestamp': '2010-11-20T00:00:00', 'Value': -1.9994230270385742}, {'Timestamp': '2010-11-21T00:00:00', 'Value': 27.923860549926758}, {'Timestamp': '2010-11-22T00:00:00', 'Value': 44.22684860229492}, {'Timestamp': '2010-11-23T00:00:00', 'Value': 77.04946899414062}, {'Timestamp': '2010-11-24T00:00:00', 'Value': 48.65130615234375}, {'Timestamp': '2010-11-25T00:00:00', 'Value': 25.90692901611328}, {'Timestamp': '2010-11-26T00:00:00', 'Value': 5.392804145812988}, {'Timestamp': '2010-11-27T00:00:00', 'Value': 4.905056476593018}, {'Timestamp': '2010-11-28T00:00:00', 'Value': 21.295623779296875}, {'Timestamp': '2010-11-29T00:00:00', 'Value': 29.838973999023438}, {'Timestamp': '2010-11-30T00:00:00', 'Value': 88.4803237915039}], 'p50': [{'Timestamp': '2010-11-01T00:00:00', 'Value': 42.62953186035156}, {'Timestamp': '2010-11-02T00:00:00', 'Value': 100.54974365234375}, {'Timestamp': '2010-11-03T00:00:00', 'Value': 77.50416564941406}, {'Timestamp': '2010-11-04T00:00:00', 'Value': 18.940773010253906}, {'Timestamp': '2010-11-05T00:00:00', 'Value': 44.80149841308594}, {'Timestamp': '2010-11-06T00:00:00', 'Value': 28.869626998901367}, {'Timestamp': '2010-11-07T00:00:00', 'Value': 67.22317504882812}, {'Timestamp': '2010-11-08T00:00:00', 'Value': 86.76032257080078}, {'Timestamp': '2010-11-09T00:00:00', 'Value': 89.88619995117188}, {'Timestamp': '2010-11-10T00:00:00', 'Value': 51.360130310058594}, {'Timestamp': '2010-11-11T00:00:00', 'Value': 39.73455047607422}, {'Timestamp': '2010-11-12T00:00:00', 'Value': 29.331886291503906}, {'Timestamp': '2010-11-13T00:00:00', 'Value': 7.442046165466309}, {'Timestamp': '2010-11-14T00:00:00', 'Value': 60.10453414916992}, {'Timestamp': '2010-11-15T00:00:00', 'Value': 68.79894256591797}, {'Timestamp': '2010-11-16T00:00:00', 'Value': 90.15210723876953}, {'Timestamp': '2010-11-17T00:00:00', 'Value': 58.77504348754883}, {'Timestamp': '2010-11-18T00:00:00', 'Value': 39.692420959472656}, {'Timestamp': '2010-11-19T00:00:00', 'Value': 32.42485809326172}, {'Timestamp': '2010-11-20T00:00:00', 'Value': 10.793567657470703}, {'Timestamp': '2010-11-21T00:00:00', 'Value': 40.94450378417969}, {'Timestamp': '2010-11-22T00:00:00', 'Value': 55.4172477722168}, {'Timestamp': '2010-11-23T00:00:00', 'Value': 94.51637268066406}, {'Timestamp': '2010-11-24T00:00:00', 'Value': 83.94271850585938}, {'Timestamp': '2010-11-25T00:00:00', 'Value': 35.926761627197266}, {'Timestamp': '2010-11-26T00:00:00', 'Value': 19.035932540893555}, {'Timestamp': '2010-11-27T00:00:00', 'Value': 14.102384567260742}, {'Timestamp': '2010-11-28T00:00:00', 'Value': 35.82306671142578}, {'Timestamp': '2010-11-29T00:00:00', 'Value': 49.0992546081543}, {'Timestamp': '2010-11-30T00:00:00', 'Value': 100.90589141845703}], 'p90': [{'Timestamp': '2010-11-01T00:00:00', 'Value': 46.264892578125}, {'Timestamp': '2010-11-02T00:00:00', 'Value': 114.05484771728516}, {'Timestamp': '2010-11-03T00:00:00', 'Value': 106.10562133789062}, {'Timestamp': '2010-11-04T00:00:00', 'Value': 30.541423797607422}, {'Timestamp': '2010-11-05T00:00:00', 'Value': 85.76217651367188}, {'Timestamp': '2010-11-06T00:00:00', 'Value': 85.92713928222656}, {'Timestamp': '2010-11-07T00:00:00', 'Value': 129.504638671875}, {'Timestamp': '2010-11-08T00:00:00', 'Value': 157.71694946289062}, {'Timestamp': '2010-11-09T00:00:00', 'Value': 147.8798828125}, {'Timestamp': '2010-11-10T00:00:00', 'Value': 93.95794677734375}, {'Timestamp': '2010-11-11T00:00:00', 'Value': 76.31837463378906}, {'Timestamp': '2010-11-12T00:00:00', 'Value': 47.46625900268555}, {'Timestamp': '2010-11-13T00:00:00', 'Value': 20.18770408630371}, {'Timestamp': '2010-11-14T00:00:00', 'Value': 70.86609649658203}, {'Timestamp': '2010-11-15T00:00:00', 'Value': 87.52617645263672}, {'Timestamp': '2010-11-16T00:00:00', 'Value': 120.56263732910156}, {'Timestamp': '2010-11-17T00:00:00', 'Value': 85.25100708007812}, {'Timestamp': '2010-11-18T00:00:00', 'Value': 53.85289001464844}, {'Timestamp': '2010-11-19T00:00:00', 'Value': 44.995174407958984}, {'Timestamp': '2010-11-20T00:00:00', 'Value': 21.565990447998047}, {'Timestamp': '2010-11-21T00:00:00', 'Value': 51.762786865234375}, {'Timestamp': '2010-11-22T00:00:00', 'Value': 68.04520416259766}, {'Timestamp': '2010-11-23T00:00:00', 'Value': 124.04495239257812}, {'Timestamp': '2010-11-24T00:00:00', 'Value': 130.9940185546875}, {'Timestamp': '2010-11-25T00:00:00', 'Value': 52.11885452270508}, {'Timestamp': '2010-11-26T00:00:00', 'Value': 35.43665313720703}, {'Timestamp': '2010-11-27T00:00:00', 'Value': 28.455379486083984}, {'Timestamp': '2010-11-28T00:00:00', 'Value': 56.28373718261719}, {'Timestamp': '2010-11-29T00:00:00', 'Value': 76.40636444091797}, {'Timestamp': '2010-11-30T00:00:00', 'Value': 115.66488647460938}]}}, 'ResponseMetadata': {'RequestId': '418df0a3-ced4-4f8c-85ba-25268893f42a', 'HTTPStatusCode': 200, 'HTTPHeaders': {'content-type': 'application/x-amz-json-1.1', 'date': 'Sat, 10 Oct 2020 15:07:24 GMT', 'x-amzn-requestid': '418df0a3-ced4-4f8c-85ba-25268893f42a', 'content-length': '5664', 'connection': 'keep-alive'}, 'RetryAttempts': 0}}\n"
     ]
    }
   ],
   "source": [
    "print()\n",
    "forecast_response = forecast_query.query_forecast(\n",
    "    ForecastArn=forecast_arn,\n",
    "    Filters={\"item_id\":\"21232\"}\n",
    ")\n",
    "print(forecast_response)"
   ]
  },
  {
   "cell_type": "markdown",
   "metadata": {},
   "source": [
    "## Optional cleanup\n",
    "\n",
    "Cleanup is performed in the `forecast-lab.ipynb` notebook. If you must perform the cleanup here, change the following cell to code by selecting the cell and pressing Y. Then, run the cell."
   ]
  },
  {
   "cell_type": "markdown",
   "metadata": {},
   "source": [
    "forecast.delete_forecast(ForecastArn=forecast_arn)\n",
    "time.sleep(60)"
   ]
  },
  {
   "cell_type": "markdown",
   "metadata": {},
   "source": [
    "forecast.delete_predictor(PredictorArn=predictor_arn)\n",
    "time.sleep(60)"
   ]
  },
  {
   "cell_type": "markdown",
   "metadata": {},
   "source": [
    "forecast.delete_dataset_import_job(DatasetImportJobArn=ds_import_job_arn)\n",
    "time.sleep(60)"
   ]
  },
  {
   "cell_type": "markdown",
   "metadata": {},
   "source": [
    "forecast.delete_dataset(DatasetArn=dataset_arn)\n",
    "time.sleep(60)"
   ]
  },
  {
   "cell_type": "markdown",
   "metadata": {},
   "source": [
    "forecast.delete_dataset_group(DatasetGroupArn=dataset_group_arn)"
   ]
  },
  {
   "cell_type": "code",
   "execution_count": null,
   "metadata": {},
   "outputs": [],
   "source": []
  }
 ],
 "metadata": {
  "kernelspec": {
   "display_name": "conda_python3",
   "language": "python",
   "name": "conda_python3"
  },
  "language_info": {
   "codemirror_mode": {
    "name": "ipython",
    "version": 3
   },
   "file_extension": ".py",
   "mimetype": "text/x-python",
   "name": "python",
   "nbconvert_exporter": "python",
   "pygments_lexer": "ipython3",
   "version": "3.7.6"
  }
 },
 "nbformat": 4,
 "nbformat_minor": 4
}
