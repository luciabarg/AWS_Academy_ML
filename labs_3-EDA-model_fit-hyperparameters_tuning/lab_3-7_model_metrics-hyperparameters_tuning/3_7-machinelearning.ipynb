{
 "cells": [
  {
   "cell_type": "markdown",
   "metadata": {},
   "source": [
    "# Lab 3.7 - Student Notebook"
   ]
  },
  {
   "cell_type": "markdown",
   "metadata": {},
   "source": [
    "## Overview\n",
    "\n",
    "This lab is a continuation of the guided labs in Module 3.\n",
    "\n",
    "In this lab, you will create a hyperparameter tuning job to tune the model that you created previously. You will then compare the metrics of the two models.\n",
    "\n",
    "\n",
    "## Introduction to the business scenario\n",
    "\n",
    "You work for a healthcare provider, and want to improve the detection of abnormalities in orthopedic patients. \n",
    "\n",
    "You are tasked with solving this problem by using machine learning (ML). You have access to a dataset that contains six biomechanical features and a target of *normal* or *abnormal*. You can use this dataset to train an ML model to predict if a patient will have an abnormality.\n",
    "\n",
    "\n",
    "## About this dataset\n",
    "\n",
    "This biomedical dataset was built by Dr. Henrique da Mota during a medical residence period in the Group of Applied Research in Orthopaedics (GARO) of the Centre Médico-Chirurgical de Réadaptation des Massues, Lyon, France. The data has been organized in two different, but related, classification tasks. \n",
    "\n",
    "The first task consists in classifying patients as belonging to one of three categories: \n",
    "\n",
    "- *Normal* (100 patients)\n",
    "- *Disk Hernia* (60 patients)\n",
    "- *Spondylolisthesis* (150 patients)\n",
    "\n",
    "For the second task, the categories *Disk Hernia* and *Spondylolisthesis* were merged into a single category that is labeled as *abnormal*. Thus, the second task consists in classifying patients as belonging to one of two categories: *Normal* (100 patients) or *Abnormal* (210 patients).\n",
    "\n",
    "\n",
    "## Attribute information\n",
    "\n",
    "Each patient is represented in the dataset by six biomechanical attributes that are derived from the shape and orientation of the pelvis and lumbar spine (in this order): \n",
    "\n",
    "- Pelvic incidence\n",
    "- Pelvic tilt\n",
    "- Lumbar lordosis angle\n",
    "- Sacral slope\n",
    "- Pelvic radius\n",
    "- Grade of spondylolisthesis\n",
    "\n",
    "The following convention is used for the class labels: \n",
    "- DH (Disk Hernia)\n",
    "- Spondylolisthesis (SL)\n",
    "- Normal (NO) \n",
    "- Abnormal (AB)\n",
    "\n",
    "\n",
    "For more information about this dataset, see the [Vertebral Column dataset webpage](http://archive.ics.uci.edu/ml/datasets/Vertebral+Column).\n",
    "\n",
    "\n",
    "## Dataset attributions\n",
    "\n",
    "This dataset was obtained from:\n",
    "Dua, D. and Graff, C. (2019). UCI Machine Learning Repository (http://archive.ics.uci.edu/ml). Irvine, CA: University of California, School of Information and Computer Science.\n"
   ]
  },
  {
   "cell_type": "markdown",
   "metadata": {},
   "source": [
    "# Lab setup\n",
    "\n",
    "Because this solution is split across several labs in the module, you run the following cells so that you can load the data and train the model to be deployed.\n",
    "\n",
    "**Note:** The setup can take up to 5 minutes to complete."
   ]
  },
  {
   "cell_type": "markdown",
   "metadata": {},
   "source": [
    "## Importing the data\n",
    "\n",
    "By running the following cells, the data will be imported and ready for use. \n",
    "\n",
    "**Note:** The following cells represent the key steps in the previous labs.\n"
   ]
  },
  {
   "cell_type": "code",
   "execution_count": 1,
   "metadata": {},
   "outputs": [],
   "source": [
    "bucket='c21441a262202u1000135t1w902724549072-labbucket-e75rhnteq3fu'"
   ]
  },
  {
   "cell_type": "code",
   "execution_count": 2,
   "metadata": {},
   "outputs": [],
   "source": [
    "import time\n",
    "start = time.time()\n",
    "import warnings, requests, zipfile, io\n",
    "warnings.simplefilter('ignore')\n",
    "import pandas as pd\n",
    "from scipy.io import arff\n",
    "\n",
    "import os\n",
    "import boto3\n",
    "import sagemaker\n",
    "from sagemaker.image_uris import retrieve\n",
    "from sklearn.model_selection import train_test_split\n",
    "\n",
    "from sklearn.metrics import roc_auc_score, roc_curve, auc, confusion_matrix\n",
    "import seaborn as sns\n",
    "import matplotlib.pyplot as plt"
   ]
  },
  {
   "cell_type": "code",
   "execution_count": 3,
   "metadata": {},
   "outputs": [
    {
     "name": "stdout",
     "output_type": "stream",
     "text": [
      "\n",
      "2020-10-10 13:47:49 Starting - Starting the training job\n",
      "2020-10-10 13:47:51 Starting - Launching requested ML instances............\n",
      "2020-10-10 13:48:55 Starting - Preparing the instances for training...........\n",
      "2020-10-10 13:49:58 Downloading - Downloading input data....\n",
      "2020-10-10 13:50:25 Training - Downloading the training image...\n",
      "2020-10-10 13:50:42 Training - Training image download completed. Training in progress.\n",
      "2020-10-10 13:50:48 Uploading - Uploading generated training model\n",
      "2020-10-10 13:50:55 Completed - Training job completed\n",
      "............................\u001b[34m[2020-10-10:13:55:26:INFO] No GPUs detected (normal if no gpus installed)\u001b[0m\n",
      "\u001b[34m[2020-10-10:13:55:26:INFO] No GPUs detected (normal if no gpus installed)\u001b[0m\n",
      "\u001b[34m[2020-10-10:13:55:26:INFO] nginx config: \u001b[0m\n",
      "\u001b[34mworker_processes auto;\u001b[0m\n",
      "\u001b[34mdaemon off;\u001b[0m\n",
      "\u001b[34mpid /tmp/nginx.pid;\u001b[0m\n",
      "\u001b[34merror_log  /dev/stderr;\n",
      "\u001b[0m\n",
      "\u001b[34mworker_rlimit_nofile 4096;\n",
      "\u001b[0m\n",
      "\u001b[34mevents {\n",
      "  worker_connections 2048;\u001b[0m\n",
      "\u001b[34m}\n",
      "\u001b[0m\n",
      "\u001b[34mhttp {\n",
      "  include /etc/nginx/mime.types;\n",
      "  default_type application/octet-stream;\n",
      "  access_log /dev/stdout combined;\n",
      "\n",
      "  upstream gunicorn {\n",
      "    server unix:/tmp/gunicorn.sock;\n",
      "  }\n",
      "\n",
      "  server {\n",
      "    listen 8080 deferred;\n",
      "    client_max_body_size 0;\n",
      "\n",
      "    keepalive_timeout 3;\n",
      "\n",
      "    location ~ ^/(ping|invocations|execution-parameters) {\n",
      "      proxy_set_header X-Forwarded-For $proxy_add_x_forwarded_for;\n",
      "      proxy_set_header Host $http_host;\n",
      "      proxy_redirect off;\n",
      "      proxy_read_timeout 60s;\n",
      "      proxy_pass http://gunicorn;\n",
      "    }\n",
      "\n",
      "    location / {\n",
      "      return 404 \"{}\";\n",
      "    }\n",
      "\n",
      "  }\u001b[0m\n",
      "\u001b[34m}\n",
      "\n",
      "\u001b[0m\n",
      "\u001b[34m2020/10/10 13:55:26 [crit] 42#42: *1 connect() to unix:/tmp/gunicorn.sock failed (2: No such file or directory) while connecting to upstream, client: 169.254.255.130, server: , request: \"GET /ping HTTP/1.1\", upstream: \"http://unix:/tmp/gunicorn.sock:/ping\", host: \"169.254.255.131:8080\"\u001b[0m\n",
      "\u001b[34m169.254.255.130 - - [10/Oct/2020:13:55:26 +0000] \"GET /ping HTTP/1.1\" 502 182 \"-\" \"Go-http-client/1.1\"\u001b[0m\n",
      "\u001b[34m[2020-10-10 13:55:27 +0000] [41] [INFO] Starting gunicorn 19.10.0\u001b[0m\n",
      "\u001b[34m[2020-10-10 13:55:27 +0000] [41] [INFO] Listening at: unix:/tmp/gunicorn.sock (41)\u001b[0m\n",
      "\u001b[34m[2020-10-10 13:55:27 +0000] [41] [INFO] Using worker: gevent\u001b[0m\n",
      "\u001b[34m[2020-10-10 13:55:27 +0000] [60] [INFO] Booting worker with pid: 60\u001b[0m\n",
      "\u001b[34m[2020-10-10 13:55:27 +0000] [61] [INFO] Booting worker with pid: 61\u001b[0m\n",
      "\u001b[34m[2020-10-10 13:55:27 +0000] [77] [INFO] Booting worker with pid: 77\u001b[0m\n",
      "\u001b[34m[2020-10-10 13:55:27 +0000] [78] [INFO] Booting worker with pid: 78\u001b[0m\n",
      "\u001b[34m[2020-10-10 13:55:27 +0000] [94] [INFO] Booting worker with pid: 94\u001b[0m\n",
      "\u001b[34m[2020-10-10 13:55:27 +0000] [95] [INFO] Booting worker with pid: 95\u001b[0m\n",
      "\u001b[34m[2020-10-10 13:55:27 +0000] [96] [INFO] Booting worker with pid: 96\u001b[0m\n",
      "\u001b[34m[2020-10-10 13:55:27 +0000] [97] [INFO] Booting worker with pid: 97\u001b[0m\n",
      "\u001b[34m[2020-10-10 13:55:27 +0000] [128] [INFO] Booting worker with pid: 128\u001b[0m\n",
      "\u001b[34m[2020-10-10 13:55:27 +0000] [145] [INFO] Booting worker with pid: 145\u001b[0m\n",
      "\u001b[34m[2020-10-10 13:55:27 +0000] [146] [INFO] Booting worker with pid: 146\u001b[0m\n",
      "\u001b[34m[2020-10-10 13:55:27 +0000] [192] [INFO] Booting worker with pid: 192\u001b[0m\n",
      "\u001b[34m[2020-10-10 13:55:27 +0000] [193] [INFO] Booting worker with pid: 193\u001b[0m\n",
      "\u001b[34m[2020-10-10 13:55:27 +0000] [194] [INFO] Booting worker with pid: 194\u001b[0m\n",
      "\u001b[34m[2020-10-10 13:55:27 +0000] [226] [INFO] Booting worker with pid: 226\u001b[0m\n",
      "\u001b[34m[2020-10-10 13:55:27 +0000] [228] [INFO] Booting worker with pid: 228\u001b[0m\n",
      "\u001b[34m[2020-10-10:13:55:29:INFO] No GPUs detected (normal if no gpus installed)\u001b[0m\n",
      "\u001b[34m169.254.255.130 - - [10/Oct/2020:13:55:29 +0000] \"GET /ping HTTP/1.1\" 200 0 \"-\" \"Go-http-client/1.1\"\u001b[0m\n",
      "\u001b[34m169.254.255.130 - - [10/Oct/2020:13:55:29 +0000] \"GET /execution-parameters HTTP/1.1\" 200 85 \"-\" \"Go-http-client/1.1\"\u001b[0m\n",
      "\u001b[34m[2020-10-10:13:55:29:INFO] No GPUs detected (normal if no gpus installed)\u001b[0m\n",
      "\u001b[34m[2020-10-10:13:55:29:INFO] Determined delimiter of CSV input is ','\u001b[0m\n",
      "\u001b[34m169.254.255.130 - - [10/Oct/2020:13:55:29 +0000] \"POST /invocations HTTP/1.1\" 200 598 \"-\" \"Go-http-client/1.1\"\u001b[0m\n",
      "\u001b[32m2020-10-10T13:55:29.655:[sagemaker logs]: MaxConcurrentTransforms=16, MaxPayloadInMB=6, BatchStrategy=MULTI_RECORD\u001b[0m\n",
      "\n",
      "!\n",
      "CPU times: user 1.29 s, sys: 81.2 ms, total: 1.37 s\n",
      "Wall time: 8min 26s\n"
     ]
    }
   ],
   "source": [
    "%%time\n",
    "\n",
    "def plot_roc(test_labels, target_predicted_binary):\n",
    "    TN, FP, FN, TP = confusion_matrix(test_labels, target_predicted_binary).ravel()\n",
    "    # Sensitivity, hit rate, recall, or true positive rate\n",
    "    Sensitivity  = float(TP)/(TP+FN)*100\n",
    "    # Specificity or true negative rate\n",
    "    Specificity  = float(TN)/(TN+FP)*100\n",
    "    # Precision or positive predictive value\n",
    "    Precision = float(TP)/(TP+FP)*100\n",
    "    # Negative predictive value\n",
    "    NPV = float(TN)/(TN+FN)*100\n",
    "    # Fall out or false positive rate\n",
    "    FPR = float(FP)/(FP+TN)*100\n",
    "    # False negative rate\n",
    "    FNR = float(FN)/(TP+FN)*100\n",
    "    # False discovery rate\n",
    "    FDR = float(FP)/(TP+FP)*100\n",
    "    # Overall accuracy\n",
    "    ACC = float(TP+TN)/(TP+FP+FN+TN)*100\n",
    "\n",
    "    print(f\"Sensitivity or TPR: {Sensitivity}%\")    \n",
    "    print(f\"Specificity or TNR: {Specificity}%\") \n",
    "    print(f\"Precision: {Precision}%\")   \n",
    "    print(f\"Negative Predictive Value: {NPV}%\")  \n",
    "    print( f\"False Positive Rate: {FPR}%\") \n",
    "    print(f\"False Negative Rate: {FNR}%\")  \n",
    "    print(f\"False Discovery Rate: {FDR}%\" )\n",
    "    print(f\"Accuracy: {ACC}%\") \n",
    "\n",
    "    test_labels = test.iloc[:,0];\n",
    "    print(\"Validation AUC\", roc_auc_score(test_labels, target_predicted_binary) )\n",
    "\n",
    "    fpr, tpr, thresholds = roc_curve(test_labels, target_predicted_binary)\n",
    "    roc_auc = auc(fpr, tpr)\n",
    "\n",
    "    plt.figure()\n",
    "    plt.plot(fpr, tpr, label='ROC curve (area = %0.2f)' % (roc_auc))\n",
    "    plt.plot([0, 1], [0, 1], 'k--')\n",
    "    plt.xlim([0.0, 1.0])\n",
    "    plt.ylim([0.0, 1.05])\n",
    "    plt.xlabel('False Positive Rate')\n",
    "    plt.ylabel('True Positive Rate')\n",
    "    plt.title('Receiver operating characteristic')\n",
    "    plt.legend(loc=\"lower right\")\n",
    "\n",
    "    # create the axis of thresholds (scores)\n",
    "    ax2 = plt.gca().twinx()\n",
    "    ax2.plot(fpr, thresholds, markeredgecolor='r',linestyle='dashed', color='r')\n",
    "    ax2.set_ylabel('Threshold',color='r')\n",
    "    ax2.set_ylim([thresholds[-1],thresholds[0]])\n",
    "    ax2.set_xlim([fpr[0],fpr[-1]])\n",
    "\n",
    "    print(plt.figure())\n",
    "\n",
    "def plot_confusion_matrix(test_labels, target_predicted):\n",
    "    matrix = confusion_matrix(test_labels, target_predicted)\n",
    "    df_confusion = pd.DataFrame(matrix)\n",
    "    colormap = sns.color_palette(\"BrBG\", 10)\n",
    "    sns.heatmap(df_confusion, annot=True, fmt='.2f', cbar=None, cmap=colormap)\n",
    "    plt.title(\"Confusion Matrix\")\n",
    "    plt.tight_layout()\n",
    "    plt.ylabel(\"True Class\")\n",
    "    plt.xlabel(\"Predicted Class\")\n",
    "    plt.show()\n",
    "    \n",
    "\n",
    "f_zip = 'http://archive.ics.uci.edu/ml/machine-learning-databases/00212/vertebral_column_data.zip'\n",
    "r = requests.get(f_zip, stream=True)\n",
    "Vertebral_zip = zipfile.ZipFile(io.BytesIO(r.content))\n",
    "Vertebral_zip.extractall()\n",
    "\n",
    "data = arff.loadarff('column_2C_weka.arff')\n",
    "df = pd.DataFrame(data[0])\n",
    "\n",
    "class_mapper = {b'Abnormal':1,b'Normal':0}\n",
    "df['class']=df['class'].replace(class_mapper)\n",
    "\n",
    "cols = df.columns.tolist()\n",
    "cols = cols[-1:] + cols[:-1]\n",
    "df = df[cols]\n",
    "\n",
    "train, test_and_validate = train_test_split(df, test_size=0.2, random_state=42, stratify=df['class'])\n",
    "test, validate = train_test_split(test_and_validate, test_size=0.5, random_state=42, stratify=test_and_validate['class'])\n",
    "\n",
    "prefix='lab3'\n",
    "\n",
    "train_file='vertebral_train.csv'\n",
    "test_file='vertebral_test.csv'\n",
    "validate_file='vertebral_validate.csv'\n",
    "\n",
    "s3_resource = boto3.Session().resource('s3')\n",
    "def upload_s3_csv(filename, folder, dataframe):\n",
    "    csv_buffer = io.StringIO()\n",
    "    dataframe.to_csv(csv_buffer, header=False, index=False )\n",
    "    s3_resource.Bucket(bucket).Object(os.path.join(prefix, folder, filename)).put(Body=csv_buffer.getvalue())\n",
    "\n",
    "upload_s3_csv(train_file, 'train', train)\n",
    "upload_s3_csv(test_file, 'test', test)\n",
    "upload_s3_csv(validate_file, 'validate', validate)\n",
    "\n",
    "container = retrieve('xgboost',boto3.Session().region_name,'1.0-1')\n",
    "\n",
    "hyperparams={\"num_round\":\"42\",\n",
    "             \"eval_metric\": \"auc\",\n",
    "             \"objective\": \"binary:logistic\",\n",
    "             \"silent\" : 1}\n",
    "\n",
    "s3_output_location=\"s3://{}/{}/output/\".format(bucket,prefix)\n",
    "xgb_model=sagemaker.estimator.Estimator(container,\n",
    "                                       sagemaker.get_execution_role(),\n",
    "                                       instance_count=1,\n",
    "                                       instance_type='ml.m5.2xlarge',\n",
    "                                       output_path=s3_output_location,\n",
    "                                        hyperparameters=hyperparams,\n",
    "                                        sagemaker_session=sagemaker.Session())\n",
    "\n",
    "train_channel = sagemaker.inputs.TrainingInput(\n",
    "    \"s3://{}/{}/train/\".format(bucket,prefix,train_file),\n",
    "    content_type='text/csv')\n",
    "\n",
    "validate_channel = sagemaker.inputs.TrainingInput(\n",
    "    \"s3://{}/{}/validate/\".format(bucket,prefix,validate_file),\n",
    "    content_type='text/csv')\n",
    "\n",
    "data_channels = {'train': train_channel, 'validation': validate_channel}\n",
    "\n",
    "xgb_model.fit(inputs=data_channels, logs=False)\n",
    "\n",
    "batch_X = test.iloc[:,1:];\n",
    "\n",
    "batch_X_file='batch-in.csv'\n",
    "upload_s3_csv(batch_X_file, 'batch-in', batch_X)\n",
    "\n",
    "batch_output = \"s3://{}/{}/batch-out/\".format(bucket,prefix)\n",
    "batch_input = \"s3://{}/{}/batch-in/{}\".format(bucket,prefix,batch_X_file)\n",
    "\n",
    "xgb_transformer = xgb_model.transformer(instance_count=1,\n",
    "                                       instance_type='ml.m5.4xlarge',\n",
    "                                       strategy='MultiRecord',\n",
    "                                       assemble_with='Line',\n",
    "                                       output_path=batch_output)\n",
    "\n",
    "xgb_transformer.transform(data=batch_input,\n",
    "                         data_type='S3Prefix',\n",
    "                         content_type='text/csv',\n",
    "                         split_type='Line')\n",
    "xgb_transformer.wait(logs=False)"
   ]
  },
  {
   "cell_type": "markdown",
   "metadata": {},
   "source": [
    "# Step 1: Getting model statistics"
   ]
  },
  {
   "cell_type": "markdown",
   "metadata": {},
   "source": [
    "Before you tune the model, re-familiarize yourself with the current model's metrics.\n",
    "\n",
    "The setup performed a batch prediction, so you must read in the results from Amazon Simple Storage Service (Amazon S3)."
   ]
  },
  {
   "cell_type": "code",
   "execution_count": 4,
   "metadata": {},
   "outputs": [],
   "source": [
    "s3 = boto3.client('s3')\n",
    "obj = s3.get_object(Bucket=bucket, Key=\"{}/batch-out/{}\".format(prefix,'batch-in.csv.out'))\n",
    "target_predicted = pd.read_csv(io.BytesIO(obj['Body'].read()),',',names=['class'])\n",
    "\n",
    "def binary_convert(x):\n",
    "    threshold = 0.5\n",
    "    if x > threshold:\n",
    "        return 1\n",
    "    else:\n",
    "        return 0\n",
    "\n",
    "target_predicted_binary = target_predicted['class'].apply(binary_convert)\n",
    "test_labels = test.iloc[:,0]\n",
    "\n"
   ]
  },
  {
   "cell_type": "markdown",
   "metadata": {},
   "source": [
    "Plot the confusion matrix and the receiver operating characteristic (ROC) curve for the original model.\n"
   ]
  },
  {
   "cell_type": "code",
   "execution_count": 5,
   "metadata": {},
   "outputs": [
    {
     "data": {
      "image/png": "[encoded data removed]",
      "text/plain": [
       "<Figure size 432x288 with 1 Axes>"
      ]
     },
     "metadata": {
      "needs_background": "light"
     },
     "output_type": "display_data"
    }
   ],
   "source": [
    "plot_confusion_matrix(test_labels, target_predicted_binary)"
   ]
  },
  {
   "cell_type": "code",
   "execution_count": 6,
   "metadata": {},
   "outputs": [
    {
     "name": "stdout",
     "output_type": "stream",
     "text": [
      "Sensitivity or TPR: 90.47619047619048%\n",
      "Specificity or TNR: 70.0%\n",
      "Precision: 86.36363636363636%\n",
      "Negative Predictive Value: 77.77777777777779%\n",
      "False Positive Rate: 30.0%\n",
      "False Negative Rate: 9.523809523809524%\n",
      "False Discovery Rate: 13.636363636363635%\n",
      "Accuracy: 83.87096774193549%\n",
      "Validation AUC 0.8023809523809523\n",
      "Figure(432x288)\n"
     ]
    },
    {
     "data": {
      "image/png": "[encoded data removed]",
      "text/plain": [
       "<Figure size 432x288 with 2 Axes>"
      ]
     },
     "metadata": {
      "needs_background": "light"
     },
     "output_type": "display_data"
    },
    {
     "data": {
      "text/plain": [
       "<Figure size 432x288 with 0 Axes>"
      ]
     },
     "metadata": {},
     "output_type": "display_data"
    }
   ],
   "source": [
    "plot_roc(test_labels, target_predicted_binary)"
   ]
  },
  {
   "cell_type": "markdown",
   "metadata": {},
   "source": [
    "This plot gives you a starting point. Make a note of the *Validation area under the curve (AUC)*. You will use it later to check your tuned model to see if it's better. "
   ]
  },
  {
   "cell_type": "markdown",
   "metadata": {},
   "source": [
    "# Step 2: Creating a hyperparameter tuning job\n",
    "\n",
    "A hyperparameter tuning job can take several hours to complete, depending on the value ranges that you provide. To simplify this task, the parameters used in this step are a subset of the recommended ranges. They were tuned to give good results in this lab, without taking multiple hours to complete.\n",
    "\n",
    "For more information about the parameters to tune for XGBoost, see [Tune an XGBoost Model](https://docs.aws.amazon.com/sagemaker/latest/dg/xgboost-tuning.html) in the AWS Documentation."
   ]
  },
  {
   "cell_type": "markdown",
   "metadata": {},
   "source": [
    "Because this next cell can take time to finish, go ahead and run the cell. You will examine what's happening, and why these hyperparameter ranges were chosen."
   ]
  },
  {
   "cell_type": "code",
   "execution_count": 7,
   "metadata": {},
   "outputs": [
    {
     "name": "stdout",
     "output_type": "stream",
     "text": [
      "................................................................................................................................................................................................................................................................................................................................................................................................................................................!\n",
      "!\n",
      "CPU times: user 2.48 s, sys: 99.8 ms, total: 2.58 s\n",
      "Wall time: 36min 41s\n"
     ]
    }
   ],
   "source": [
    "%%time\n",
    "from sagemaker.tuner import IntegerParameter, CategoricalParameter, ContinuousParameter, HyperparameterTuner\n",
    "\n",
    "xgb = sagemaker.estimator.Estimator(container,\n",
    "                                    role=sagemaker.get_execution_role(), \n",
    "                                    instance_count= 1, # make sure you have limit set for these instances\n",
    "                                    instance_type='ml.m4.10xlarge', \n",
    "                                    output_path='s3://{}/{}/output'.format(bucket, prefix),\n",
    "                                    sagemaker_session=sagemaker.Session())\n",
    "\n",
    "\n",
    "xgb.set_hyperparameters(eval_metric='error@.40',\n",
    "                        objective='binary:logistic',\n",
    "                        num_round=42)\n",
    "\n",
    "hyperparameter_ranges = {'alpha': ContinuousParameter(0, 100),\n",
    "                         'min_child_weight': ContinuousParameter(1, 5),\n",
    "                         'subsample': ContinuousParameter(0.5, 1),\n",
    "                         'eta': ContinuousParameter(0.1, 0.3),  \n",
    "                         'num_round': IntegerParameter(1,50)\n",
    "                         }\n",
    "\n",
    "objective_metric_name = 'validation:error'\n",
    "objective_type = 'Minimize'\n",
    "\n",
    "tuner = HyperparameterTuner(xgb,\n",
    "                            objective_metric_name,\n",
    "                            hyperparameter_ranges,\n",
    "                            max_jobs=10, # Set this to 10 or above depending upon budget & available time.\n",
    "                            max_parallel_jobs=1,\n",
    "                            objective_type=objective_type,\n",
    "                            early_stopping_type='Auto')\n",
    "\n",
    "tuner.fit(inputs=data_channels, include_cls_metadata=False)\n",
    "tuner.wait()"
   ]
  },
  {
   "cell_type": "markdown",
   "metadata": {},
   "source": [
    "First, you will create the model that you want to tune.\n",
    "\n",
    "```\n",
    "xgb = sagemaker.estimator.Estimator(container,\n",
    "                                   role=sagemaker.get_execution_role(), \n",
    "                                   instance_count= 1, # make sure you have limit set for these instances\n",
    "                                   instance_type='ml.m4.xlarge', \n",
    "                                   output_path='s3://{}/{}/output'.format(bucket, prefix),\n",
    "                                   sagemaker_session=sagemaker.Session())\n",
    "\n",
    "xgb.set_hyperparameters(eval_metric='[error@.40]',\n",
    "                        objective='binary:logistic',\n",
    "                        num_round=42)\n",
    "\n",
    "```                        \n",
    "\n",
    "Notice that the *eval_metric* of the model was changed to *error@.40*, with a goal of minimizing that value. \n",
    "\n",
    "**error** is the binary classification error rate. It's calculated as *#(wrong cases)/#(all cases)*. For predictions, the evaluation will consider the instances that have a prediction value larger than 0.4 to be positive instances, and the others as negative instances.\n",
    "\n",
    "Next, you must specify the hyperparameters that you want to tune, in addition to the ranges that you must select for each parameter.\n",
    "\n",
    "The hyperparameters that have the largest effect on XGBoost objective metrics are: \n",
    "\n",
    "- alpha\n",
    "- min_child_weight\n",
    "- subsample\n",
    "- eta\n",
    "- num_round \n",
    "\n",
    "The recommended tuning ranges can be found in the AWS Documentation at [Tune an XGBoost Model](https://docs.aws.amazon.com/sagemaker/latest/dg/xgboost-tuning.html).\n",
    "\n",
    "For this lab, you will use a *subset* of values. These values were obtained by running the tuning job with the full range, then minimizing the range so that you can use fewer iterations to get better performance. Though this practice isn't strictly realistic, it prevents you from waiting several hours in this lab for the tuning job to complete.\n",
    "\n",
    "```\n",
    "hyperparameter_ranges = {'alpha': ContinuousParameter(0, 100),\n",
    "                         'min_child_weight': ContinuousParameter(1, 5),\n",
    "                         'subsample': ContinuousParameter(0.5, 1),\n",
    "                         'eta': ContinuousParameter(0.1, 0.3),  \n",
    "                         'num_round': IntegerParameter(1,50)\n",
    "                         }\n",
    "```\n",
    "\n",
    "\n",
    "You must specify how you are rating the model. You could use several different objective metrics, a subset of which applies to a binary classifcation problem. Because the evaluation metric is **error**, you set the objective to *error*.\n",
    "\n",
    "```\n",
    "objective_metric_name = 'validation:error'\n",
    "objective_type = 'Minimize'\n",
    "```\n",
    "\n",
    "Finally, you run the tuning job.\n",
    "\n",
    "```\n",
    "tuner = HyperparameterTuner(xgb,\n",
    "                            objective_metric_name,\n",
    "                            hyperparameter_ranges,\n",
    "                            max_jobs=10, # Set this to 10 or above depending upon budget & available time.\n",
    "                            max_parallel_jobs=1,\n",
    "                            objective_type=objective_type,\n",
    "                            early_stopping_type='Auto')\n",
    "\n",
    "tuner.fit(inputs=data_channels, include_cls_metadata=False)\n",
    "tuner.wait()\n",
    "```\n",
    "\n"
   ]
  },
  {
   "cell_type": "markdown",
   "metadata": {},
   "source": [
    "<i class=\"fas fa-exclamation-triangle\" style=\"color:red\"></i> Wait until the training job is finished. It might take 15-25 minutes. While you are waiting, observe the job status in the console, as described in the following instructions.\n",
    "\n",
    "**To monitor hyperparameter optimization jobs:**  \n",
    "\n",
    "1. In the AWS Management Console, on the **Services** menu, choose **Amazon SageMaker**.  \n",
    "2. Choose **Training > Hyperparameter tuning jobs**.  \n",
    "3. You can check the status of each hyperparameter tuning job, its objective metric value, and its logs.  "
   ]
  },
  {
   "cell_type": "markdown",
   "metadata": {},
   "source": [
    "After the training job is finished, check the job and make sure that it completed successfully."
   ]
  },
  {
   "cell_type": "code",
   "execution_count": 8,
   "metadata": {},
   "outputs": [
    {
     "data": {
      "text/plain": [
       "'Completed'"
      ]
     },
     "execution_count": 8,
     "metadata": {},
     "output_type": "execute_result"
    }
   ],
   "source": [
    "boto3.client('sagemaker').describe_hyper_parameter_tuning_job(\n",
    "    HyperParameterTuningJobName=tuner.latest_tuning_job.job_name)['HyperParameterTuningJobStatus']"
   ]
  },
  {
   "cell_type": "markdown",
   "metadata": {},
   "source": [
    "# Step 3: Investigating the tuning job results\n",
    "\n",
    "Now that the job is complete, there should be 10 completed jobs. One of the jobs should be marked as the best.\n",
    "\n",
    "You can examine the metrics by getting *HyperparameterTuningJobAnalytics* and loading that data into a pandas DataFrame.\n"
   ]
  },
  {
   "cell_type": "code",
   "execution_count": 9,
   "metadata": {},
   "outputs": [
    {
     "data": {
      "text/html": [
       "<div>\n",
       "<style scoped>\n",
       "    .dataframe tbody tr th:only-of-type {\n",
       "        vertical-align: middle;\n",
       "    }\n",
       "\n",
       "    .dataframe tbody tr th {\n",
       "        vertical-align: top;\n",
       "    }\n",
       "\n",
       "    .dataframe thead th {\n",
       "        text-align: right;\n",
       "    }\n",
       "</style>\n",
       "<table border=\"1\" class=\"dataframe\">\n",
       "  <thead>\n",
       "    <tr style=\"text-align: right;\">\n",
       "      <th></th>\n",
       "      <th>alpha</th>\n",
       "      <th>eta</th>\n",
       "      <th>min_child_weight</th>\n",
       "      <th>num_round</th>\n",
       "      <th>subsample</th>\n",
       "      <th>TrainingJobName</th>\n",
       "      <th>TrainingJobStatus</th>\n",
       "      <th>FinalObjectiveValue</th>\n",
       "      <th>TrainingStartTime</th>\n",
       "      <th>TrainingEndTime</th>\n",
       "      <th>TrainingElapsedTimeSeconds</th>\n",
       "    </tr>\n",
       "  </thead>\n",
       "  <tbody>\n",
       "    <tr>\n",
       "      <th>3</th>\n",
       "      <td>0.000481</td>\n",
       "      <td>0.114740</td>\n",
       "      <td>3.965518</td>\n",
       "      <td>5.0</td>\n",
       "      <td>0.692183</td>\n",
       "      <td>sagemaker-xgboost-201010-1356-007-4e0cdc72</td>\n",
       "      <td>Completed</td>\n",
       "      <td>0.06452</td>\n",
       "      <td>2020-10-10 14:21:01+00:00</td>\n",
       "      <td>2020-10-10 14:21:46+00:00</td>\n",
       "      <td>45.0</td>\n",
       "    </tr>\n",
       "    <tr>\n",
       "      <th>2</th>\n",
       "      <td>0.000000</td>\n",
       "      <td>0.101374</td>\n",
       "      <td>4.069283</td>\n",
       "      <td>49.0</td>\n",
       "      <td>0.795058</td>\n",
       "      <td>sagemaker-xgboost-201010-1356-008-ef0c7cc3</td>\n",
       "      <td>Completed</td>\n",
       "      <td>0.09677</td>\n",
       "      <td>2020-10-10 14:24:07+00:00</td>\n",
       "      <td>2020-10-10 14:24:56+00:00</td>\n",
       "      <td>49.0</td>\n",
       "    </tr>\n",
       "    <tr>\n",
       "      <th>0</th>\n",
       "      <td>1.646089</td>\n",
       "      <td>0.292190</td>\n",
       "      <td>4.488301</td>\n",
       "      <td>8.0</td>\n",
       "      <td>0.993056</td>\n",
       "      <td>sagemaker-xgboost-201010-1356-010-9cd19d62</td>\n",
       "      <td>Completed</td>\n",
       "      <td>0.12903</td>\n",
       "      <td>2020-10-10 14:31:02+00:00</td>\n",
       "      <td>2020-10-10 14:32:08+00:00</td>\n",
       "      <td>66.0</td>\n",
       "    </tr>\n",
       "    <tr>\n",
       "      <th>7</th>\n",
       "      <td>48.817109</td>\n",
       "      <td>0.130204</td>\n",
       "      <td>3.926089</td>\n",
       "      <td>47.0</td>\n",
       "      <td>0.958413</td>\n",
       "      <td>sagemaker-xgboost-201010-1356-003-132404d6</td>\n",
       "      <td>Completed</td>\n",
       "      <td>0.19355</td>\n",
       "      <td>2020-10-10 14:05:44+00:00</td>\n",
       "      <td>2020-10-10 14:06:37+00:00</td>\n",
       "      <td>53.0</td>\n",
       "    </tr>\n",
       "    <tr>\n",
       "      <th>8</th>\n",
       "      <td>33.866548</td>\n",
       "      <td>0.102069</td>\n",
       "      <td>3.538272</td>\n",
       "      <td>35.0</td>\n",
       "      <td>0.979842</td>\n",
       "      <td>sagemaker-xgboost-201010-1356-002-4740e4c2</td>\n",
       "      <td>Completed</td>\n",
       "      <td>0.19355</td>\n",
       "      <td>2020-10-10 14:02:15+00:00</td>\n",
       "      <td>2020-10-10 14:03:09+00:00</td>\n",
       "      <td>54.0</td>\n",
       "    </tr>\n",
       "    <tr>\n",
       "      <th>1</th>\n",
       "      <td>7.935762</td>\n",
       "      <td>0.127649</td>\n",
       "      <td>2.013569</td>\n",
       "      <td>6.0</td>\n",
       "      <td>0.636632</td>\n",
       "      <td>sagemaker-xgboost-201010-1356-009-d75a78f7</td>\n",
       "      <td>Completed</td>\n",
       "      <td>0.22581</td>\n",
       "      <td>2020-10-10 14:27:16+00:00</td>\n",
       "      <td>2020-10-10 14:28:15+00:00</td>\n",
       "      <td>59.0</td>\n",
       "    </tr>\n",
       "    <tr>\n",
       "      <th>4</th>\n",
       "      <td>20.655488</td>\n",
       "      <td>0.151428</td>\n",
       "      <td>4.891499</td>\n",
       "      <td>7.0</td>\n",
       "      <td>0.837380</td>\n",
       "      <td>sagemaker-xgboost-201010-1356-006-730a35a8</td>\n",
       "      <td>Completed</td>\n",
       "      <td>0.22581</td>\n",
       "      <td>2020-10-10 14:16:52+00:00</td>\n",
       "      <td>2020-10-10 14:18:01+00:00</td>\n",
       "      <td>69.0</td>\n",
       "    </tr>\n",
       "    <tr>\n",
       "      <th>5</th>\n",
       "      <td>31.163789</td>\n",
       "      <td>0.169617</td>\n",
       "      <td>3.673159</td>\n",
       "      <td>2.0</td>\n",
       "      <td>0.694609</td>\n",
       "      <td>sagemaker-xgboost-201010-1356-005-6c94b705</td>\n",
       "      <td>Completed</td>\n",
       "      <td>0.22581</td>\n",
       "      <td>2020-10-10 14:12:53+00:00</td>\n",
       "      <td>2020-10-10 14:14:12+00:00</td>\n",
       "      <td>79.0</td>\n",
       "    </tr>\n",
       "    <tr>\n",
       "      <th>6</th>\n",
       "      <td>67.713594</td>\n",
       "      <td>0.139002</td>\n",
       "      <td>1.871480</td>\n",
       "      <td>44.0</td>\n",
       "      <td>0.500649</td>\n",
       "      <td>sagemaker-xgboost-201010-1356-004-9fd05572</td>\n",
       "      <td>Completed</td>\n",
       "      <td>0.67742</td>\n",
       "      <td>2020-10-10 14:09:34+00:00</td>\n",
       "      <td>2020-10-10 14:10:35+00:00</td>\n",
       "      <td>61.0</td>\n",
       "    </tr>\n",
       "    <tr>\n",
       "      <th>9</th>\n",
       "      <td>74.771333</td>\n",
       "      <td>0.254680</td>\n",
       "      <td>3.049541</td>\n",
       "      <td>1.0</td>\n",
       "      <td>0.954395</td>\n",
       "      <td>sagemaker-xgboost-201010-1356-001-0b08c59d</td>\n",
       "      <td>Completed</td>\n",
       "      <td>0.67742</td>\n",
       "      <td>2020-10-10 13:58:55+00:00</td>\n",
       "      <td>2020-10-10 13:59:42+00:00</td>\n",
       "      <td>47.0</td>\n",
       "    </tr>\n",
       "  </tbody>\n",
       "</table>\n",
       "</div>"
      ],
      "text/plain": [
       "       alpha       eta  min_child_weight  num_round  subsample  \\\n",
       "3   0.000481  0.114740          3.965518        5.0   0.692183   \n",
       "2   0.000000  0.101374          4.069283       49.0   0.795058   \n",
       "0   1.646089  0.292190          4.488301        8.0   0.993056   \n",
       "7  48.817109  0.130204          3.926089       47.0   0.958413   \n",
       "8  33.866548  0.102069          3.538272       35.0   0.979842   \n",
       "1   7.935762  0.127649          2.013569        6.0   0.636632   \n",
       "4  20.655488  0.151428          4.891499        7.0   0.837380   \n",
       "5  31.163789  0.169617          3.673159        2.0   0.694609   \n",
       "6  67.713594  0.139002          1.871480       44.0   0.500649   \n",
       "9  74.771333  0.254680          3.049541        1.0   0.954395   \n",
       "\n",
       "                              TrainingJobName TrainingJobStatus  \\\n",
       "3  sagemaker-xgboost-201010-1356-007-4e0cdc72         Completed   \n",
       "2  sagemaker-xgboost-201010-1356-008-ef0c7cc3         Completed   \n",
       "0  sagemaker-xgboost-201010-1356-010-9cd19d62         Completed   \n",
       "7  sagemaker-xgboost-201010-1356-003-132404d6         Completed   \n",
       "8  sagemaker-xgboost-201010-1356-002-4740e4c2         Completed   \n",
       "1  sagemaker-xgboost-201010-1356-009-d75a78f7         Completed   \n",
       "4  sagemaker-xgboost-201010-1356-006-730a35a8         Completed   \n",
       "5  sagemaker-xgboost-201010-1356-005-6c94b705         Completed   \n",
       "6  sagemaker-xgboost-201010-1356-004-9fd05572         Completed   \n",
       "9  sagemaker-xgboost-201010-1356-001-0b08c59d         Completed   \n",
       "\n",
       "   FinalObjectiveValue         TrainingStartTime           TrainingEndTime  \\\n",
       "3              0.06452 2020-10-10 14:21:01+00:00 2020-10-10 14:21:46+00:00   \n",
       "2              0.09677 2020-10-10 14:24:07+00:00 2020-10-10 14:24:56+00:00   \n",
       "0              0.12903 2020-10-10 14:31:02+00:00 2020-10-10 14:32:08+00:00   \n",
       "7              0.19355 2020-10-10 14:05:44+00:00 2020-10-10 14:06:37+00:00   \n",
       "8              0.19355 2020-10-10 14:02:15+00:00 2020-10-10 14:03:09+00:00   \n",
       "1              0.22581 2020-10-10 14:27:16+00:00 2020-10-10 14:28:15+00:00   \n",
       "4              0.22581 2020-10-10 14:16:52+00:00 2020-10-10 14:18:01+00:00   \n",
       "5              0.22581 2020-10-10 14:12:53+00:00 2020-10-10 14:14:12+00:00   \n",
       "6              0.67742 2020-10-10 14:09:34+00:00 2020-10-10 14:10:35+00:00   \n",
       "9              0.67742 2020-10-10 13:58:55+00:00 2020-10-10 13:59:42+00:00   \n",
       "\n",
       "   TrainingElapsedTimeSeconds  \n",
       "3                        45.0  \n",
       "2                        49.0  \n",
       "0                        66.0  \n",
       "7                        53.0  \n",
       "8                        54.0  \n",
       "1                        59.0  \n",
       "4                        69.0  \n",
       "5                        79.0  \n",
       "6                        61.0  \n",
       "9                        47.0  "
      ]
     },
     "execution_count": 9,
     "metadata": {},
     "output_type": "execute_result"
    }
   ],
   "source": [
    "from pprint import pprint\n",
    "from sagemaker.analytics import HyperparameterTuningJobAnalytics\n",
    "\n",
    "tuner_analytics = HyperparameterTuningJobAnalytics(tuner.latest_tuning_job.name, sagemaker_session=sagemaker.Session())\n",
    "\n",
    "df_tuning_job_analytics = tuner_analytics.dataframe()\n",
    "\n",
    "# Sort the tuning job analytics by the final metrics value\n",
    "df_tuning_job_analytics.sort_values(\n",
    "    by=['FinalObjectiveValue'],\n",
    "    inplace=True,\n",
    "    ascending=False if tuner.objective_type == \"Maximize\" else True)\n",
    "\n",
    "# Show detailed analytics for the top 20 models\n",
    "df_tuning_job_analytics.head(20)\n"
   ]
  },
  {
   "cell_type": "markdown",
   "metadata": {},
   "source": [
    "You should be able to see the hyperparameters that were used for each job, along with the score. You could use those parameters and create a model, or you can get the best model from the hyperparameter tuning job."
   ]
  },
  {
   "cell_type": "code",
   "execution_count": 10,
   "metadata": {},
   "outputs": [],
   "source": [
    "attached_tuner = HyperparameterTuner.attach(tuner.latest_tuning_job.name, sagemaker_session=sagemaker.Session())\n",
    "best_training_job = attached_tuner.best_training_job()"
   ]
  },
  {
   "cell_type": "markdown",
   "metadata": {},
   "source": [
    "Now, you must attach to the best training job and create the model."
   ]
  },
  {
   "cell_type": "code",
   "execution_count": 11,
   "metadata": {},
   "outputs": [
    {
     "name": "stdout",
     "output_type": "stream",
     "text": [
      "\n",
      "2020-10-10 14:21:46 Starting - Preparing the instances for training\n",
      "2020-10-10 14:21:46 Downloading - Downloading input data\n",
      "2020-10-10 14:21:46 Training - Training image download completed. Training in progress.\n",
      "2020-10-10 14:21:46 Uploading - Uploading generated training model\n",
      "2020-10-10 14:21:46 Completed - Training job completed\n"
     ]
    }
   ],
   "source": [
    "from sagemaker.estimator import Estimator\n",
    "algo_estimator = Estimator.attach(best_training_job)\n",
    "\n",
    "best_algo_model = algo_estimator.create_model(env={'SAGEMAKER_DEFAULT_INVOCATIONS_ACCEPT':\"text/csv\"})"
   ]
  },
  {
   "cell_type": "markdown",
   "metadata": {},
   "source": [
    "Then, you can use the transform method to perform a batch prediction by using your testing data. Remember that the testing data is data that the model has never seen before."
   ]
  },
  {
   "cell_type": "code",
   "execution_count": 12,
   "metadata": {},
   "outputs": [
    {
     "name": "stdout",
     "output_type": "stream",
     "text": [
      "..........................\u001b[34m[2020-10-10:14:37:06:INFO] No GPUs detected (normal if no gpus installed)\u001b[0m\n",
      "\u001b[34m[2020-10-10:14:37:06:INFO] No GPUs detected (normal if no gpus installed)\u001b[0m\n",
      "\u001b[34m[2020-10-10:14:37:06:INFO] nginx config: \u001b[0m\n",
      "\u001b[34mworker_processes auto;\u001b[0m\n",
      "\u001b[34mdaemon off;\u001b[0m\n",
      "\u001b[34mpid /tmp/nginx.pid;\u001b[0m\n",
      "\u001b[34merror_log  /dev/stderr;\n",
      "\u001b[0m\n",
      "\u001b[34mworker_rlimit_nofile 4096;\n",
      "\u001b[0m\n",
      "\u001b[34mevents {\n",
      "  worker_connections 2048;\u001b[0m\n",
      "\u001b[34m}\n",
      "\u001b[0m\n",
      "\u001b[34mhttp {\n",
      "  include /etc/nginx/mime.types;\n",
      "  default_type application/octet-stream;\n",
      "  access_log /dev/stdout combined;\n",
      "\n",
      "  upstream gunicorn {\n",
      "    server unix:/tmp/gunicorn.sock;\n",
      "  }\n",
      "\n",
      "  server {\n",
      "    listen 8080 deferred;\n",
      "    client_max_body_size 0;\n",
      "\n",
      "    keepalive_timeout 3;\n",
      "\n",
      "    location ~ ^/(ping|invocations|execution-parameters) {\n",
      "      proxy_set_header X-Forwarded-For $proxy_add_x_forwarded_for;\n",
      "      proxy_set_header Host $http_host;\n",
      "      proxy_redirect off;\n",
      "      proxy_read_timeout 60s;\n",
      "      proxy_pass http://gunicorn;\n",
      "    }\n",
      "\n",
      "    location / {\n",
      "      return 404 \"{}\";\n",
      "    }\n",
      "\n",
      "  }\u001b[0m\n",
      "\u001b[34m}\n",
      "\n",
      "\u001b[0m\n",
      "\u001b[34m2020/10/10 14:37:06 [crit] 117#117: *1 connect() to unix:/tmp/gunicorn.sock failed (2: No such file or directory) while connecting to upstream, client: 169.254.255.130, server: , request: \"GET /ping HTTP/1.1\", upstream: \"http://unix:/tmp/gunicorn.sock:/ping\", host: \"169.254.255.131:8080\"\u001b[0m\n",
      "\u001b[34m169.254.255.130 - - [10/Oct/2020:14:37:06 +0000] \"GET /ping HTTP/1.1\" 502 182 \"-\" \"Go-http-client/1.1\"\u001b[0m\n",
      "\u001b[34m2020/10/10 14:37:06 [crit] 117#117: *3 connect() to unix:/tmp/gunicorn.sock failed (2: No such file or directory) while connecting to upstream, client: 169.254.255.130, server: , request: \"GET /ping HTTP/1.1\", upstream: \"http://unix:/tmp/gunicorn.sock:/ping\", host: \"169.254.255.131:8080\"\u001b[0m\n",
      "\u001b[34m169.254.255.130 - - [10/Oct/2020:14:37:06 +0000] \"GET /ping HTTP/1.1\" 502 182 \"-\" \"Go-http-client/1.1\"\u001b[0m\n",
      "\u001b[34m[2020-10-10 14:37:07 +0000] [89] [INFO] Starting gunicorn 19.10.0\u001b[0m\n",
      "\u001b[34m[2020-10-10 14:37:07 +0000] [89] [INFO] Listening at: unix:/tmp/gunicorn.sock (89)\u001b[0m\n",
      "\u001b[34m[2020-10-10 14:37:07 +0000] [89] [INFO] Using worker: gevent\u001b[0m\n",
      "\u001b[34m[2020-10-10 14:37:07 +0000] [132] [INFO] Booting worker with pid: 132\u001b[0m\n",
      "\u001b[34m[2020-10-10 14:37:07 +0000] [133] [INFO] Booting worker with pid: 133\u001b[0m\n",
      "\u001b[34m[2020-10-10 14:37:07 +0000] [134] [INFO] Booting worker with pid: 134\u001b[0m\n",
      "\u001b[34m[2020-10-10 14:37:07 +0000] [135] [INFO] Booting worker with pid: 135\u001b[0m\n",
      "\u001b[34m[2020-10-10 14:37:07 +0000] [214] [INFO] Booting worker with pid: 214\u001b[0m\n",
      "\u001b[34m[2020-10-10 14:37:07 +0000] [254] [INFO] Booting worker with pid: 254\u001b[0m\n",
      "\u001b[34m[2020-10-10 14:37:07 +0000] [255] [INFO] Booting worker with pid: 255\u001b[0m\n",
      "\u001b[34m[2020-10-10 14:37:07 +0000] [295] [INFO] Booting worker with pid: 295\u001b[0m\n",
      "\u001b[34m[2020-10-10 14:37:07 +0000] [296] [INFO] Booting worker with pid: 296\u001b[0m\n",
      "\u001b[34m[2020-10-10 14:37:07 +0000] [298] [INFO] Booting worker with pid: 298\u001b[0m\n",
      "\u001b[34m[2020-10-10 14:37:07 +0000] [416] [INFO] Booting worker with pid: 416\u001b[0m\n",
      "\u001b[34m[2020-10-10 14:37:07 +0000] [417] [INFO] Booting worker with pid: 417\u001b[0m\n",
      "\u001b[34m[2020-10-10 14:37:07 +0000] [498] [INFO] Booting worker with pid: 498\u001b[0m\n",
      "\u001b[34m[2020-10-10 14:37:07 +0000] [499] [INFO] Booting worker with pid: 499\u001b[0m\n",
      "\u001b[34m[2020-10-10 14:37:07 +0000] [539] [INFO] Booting worker with pid: 539\u001b[0m\n",
      "\u001b[34m[2020-10-10 14:37:07 +0000] [620] [INFO] Booting worker with pid: 620\u001b[0m\n",
      "\u001b[34m[2020-10-10 14:37:07 +0000] [621] [INFO] Booting worker with pid: 621\u001b[0m\n",
      "\u001b[34m[2020-10-10 14:37:08 +0000] [623] [INFO] Booting worker with pid: 623\u001b[0m\n",
      "\u001b[34m[2020-10-10 14:37:08 +0000] [664] [INFO] Booting worker with pid: 664\u001b[0m\n",
      "\u001b[34m[2020-10-10 14:37:08 +0000] [705] [INFO] Booting worker with pid: 705\u001b[0m\n",
      "\u001b[34m[2020-10-10 14:37:08 +0000] [704] [INFO] Booting worker with pid: 704\u001b[0m\n",
      "\u001b[34m[2020-10-10 14:37:08 +0000] [706] [INFO] Booting worker with pid: 706\u001b[0m\n",
      "\u001b[34m[2020-10-10 14:37:08 +0000] [749] [INFO] Booting worker with pid: 749\u001b[0m\n",
      "\u001b[34m[2020-10-10 14:37:08 +0000] [828] [INFO] Booting worker with pid: 828\u001b[0m\n",
      "\u001b[34m[2020-10-10 14:37:08 +0000] [829] [INFO] Booting worker with pid: 829\u001b[0m\n",
      "\u001b[34m[2020-10-10 14:37:08 +0000] [832] [INFO] Booting worker with pid: 832\u001b[0m\n",
      "\u001b[34m[2020-10-10 14:37:08 +0000] [833] [INFO] Booting worker with pid: 833\u001b[0m\n",
      "\u001b[34m[2020-10-10 14:37:08 +0000] [953] [INFO] Booting worker with pid: 953\u001b[0m\n",
      "\u001b[34m[2020-10-10 14:37:08 +0000] [954] [INFO] Booting worker with pid: 954\u001b[0m\n",
      "\u001b[34m[2020-10-10 14:37:08 +0000] [1066] [INFO] Booting worker with pid: 1066\u001b[0m\n",
      "\u001b[34m[2020-10-10 14:37:08 +0000] [1075] [INFO] Booting worker with pid: 1075\u001b[0m\n",
      "\u001b[34m[2020-10-10 14:37:08 +0000] [1078] [INFO] Booting worker with pid: 1078\u001b[0m\n",
      "\u001b[34m[2020-10-10 14:37:08 +0000] [1118] [INFO] Booting worker with pid: 1118\u001b[0m\n",
      "\u001b[34m[2020-10-10 14:37:08 +0000] [1232] [INFO] Booting worker with pid: 1232\u001b[0m\n",
      "\u001b[34m[2020-10-10 14:37:08 +0000] [1239] [INFO] Booting worker with pid: 1239\u001b[0m\n",
      "\u001b[34m[2020-10-10 14:37:08 +0000] [1280] [INFO] Booting worker with pid: 1280\u001b[0m\n",
      "\u001b[34m[2020-10-10 14:37:08 +0000] [1321] [INFO] Booting worker with pid: 1321\u001b[0m\n",
      "\u001b[34m[2020-10-10 14:37:09 +0000] [1364] [INFO] Booting worker with pid: 1364\u001b[0m\n",
      "\u001b[34m[2020-10-10 14:37:09 +0000] [1404] [INFO] Booting worker with pid: 1404\u001b[0m\n",
      "\u001b[34m[2020-10-10 14:37:09 +0000] [1445] [INFO] Booting worker with pid: 1445\u001b[0m\n",
      "\u001b[34m[2020-10-10:14:37:09:INFO] No GPUs detected (normal if no gpus installed)\u001b[0m\n",
      "\u001b[34m169.254.255.130 - - [10/Oct/2020:14:37:09 +0000] \"GET /ping HTTP/1.1\" 200 0 \"-\" \"Go-http-client/1.1\"\u001b[0m\n",
      "\u001b[34m[2020-10-10:14:37:10:INFO] No GPUs detected (normal if no gpus installed)\u001b[0m\n",
      "\u001b[34m169.254.255.130 - - [10/Oct/2020:14:37:10 +0000] \"GET /execution-parameters HTTP/1.1\" 200 85 \"-\" \"Go-http-client/1.1\"\u001b[0m\n",
      "\n",
      "\u001b[34m[2020-10-10:14:37:12:INFO] No GPUs detected (normal if no gpus installed)\u001b[0m\n",
      "\u001b[34m[2020-10-10:14:37:12:INFO] Determined delimiter of CSV input is ','\u001b[0m\n",
      "\u001b[34m169.254.255.130 - - [10/Oct/2020:14:37:12 +0000] \"POST /invocations HTTP/1.1\" 200 593 \"-\" \"Go-http-client/1.1\"\u001b[0m\n",
      "\u001b[35m[2020-10-10:14:37:12:INFO] No GPUs detected (normal if no gpus installed)\u001b[0m\n",
      "\u001b[35m[2020-10-10:14:37:12:INFO] Determined delimiter of CSV input is ','\u001b[0m\n",
      "\u001b[35m169.254.255.130 - - [10/Oct/2020:14:37:12 +0000] \"POST /invocations HTTP/1.1\" 200 593 \"-\" \"Go-http-client/1.1\"\u001b[0m\n",
      "\u001b[32m2020-10-10T14:37:10.386:[sagemaker logs]: MaxConcurrentTransforms=16, MaxPayloadInMB=6, BatchStrategy=MULTI_RECORD\u001b[0m\n",
      "!\n",
      "CPU times: user 634 ms, sys: 28.1 ms, total: 662 ms\n",
      "Wall time: 4min 43s\n"
     ]
    }
   ],
   "source": [
    "%%time\n",
    "batch_output = \"s3://{}/{}/batch-out/\".format(bucket,prefix)\n",
    "batch_input = \"s3://{}/{}/batch-in/{}\".format(bucket,prefix,batch_X_file)\n",
    "\n",
    "xgb_transformer = best_algo_model.transformer(instance_count=1,\n",
    "                                       instance_type='ml.m4.10xlarge',\n",
    "                                       strategy='MultiRecord',\n",
    "                                       assemble_with='Line',\n",
    "                                       output_path=batch_output)\n",
    "\n",
    "\n",
    "xgb_transformer.transform(data=batch_input,\n",
    "                         data_type='S3Prefix',\n",
    "                         content_type='text/csv',\n",
    "                         split_type='Line')\n",
    "xgb_transformer.wait(logs=False)"
   ]
  },
  {
   "cell_type": "markdown",
   "metadata": {},
   "source": [
    "Get the predicted target and the test labels of the model."
   ]
  },
  {
   "cell_type": "code",
   "execution_count": 13,
   "metadata": {},
   "outputs": [],
   "source": [
    "s3 = boto3.client('s3')\n",
    "obj = s3.get_object(Bucket=bucket, Key=\"{}/batch-out/{}\".format(prefix,'batch-in.csv.out'))\n",
    "best_target_predicted = pd.read_csv(io.BytesIO(obj['Body'].read()),',',names=['class'])\n",
    "\n",
    "def binary_convert(x):\n",
    "    threshold = 0.5\n",
    "    if x > threshold:\n",
    "        return 1\n",
    "    else:\n",
    "        return 0\n",
    "\n",
    "best_target_predicted_binary = best_target_predicted['class'].apply(binary_convert)\n",
    "test_labels = test.iloc[:,0]"
   ]
  },
  {
   "cell_type": "markdown",
   "metadata": {},
   "source": [
    "Plot a confusion matrix for your `best_target_predicted` and `test_labels`."
   ]
  },
  {
   "cell_type": "code",
   "execution_count": 14,
   "metadata": {},
   "outputs": [
    {
     "data": {
      "image/png": "[encoded data removed]",
      "text/plain": [
       "<Figure size 432x288 with 1 Axes>"
      ]
     },
     "metadata": {
      "needs_background": "light"
     },
     "output_type": "display_data"
    }
   ],
   "source": [
    "plot_confusion_matrix(test_labels, best_target_predicted_binary)"
   ]
  },
  {
   "cell_type": "markdown",
   "metadata": {},
   "source": [
    "Plot the ROC chart."
   ]
  },
  {
   "cell_type": "code",
   "execution_count": 15,
   "metadata": {},
   "outputs": [
    {
     "name": "stdout",
     "output_type": "stream",
     "text": [
      "Sensitivity or TPR: 85.71428571428571%\n",
      "Specificity or TNR: 80.0%\n",
      "Precision: 90.0%\n",
      "Negative Predictive Value: 72.72727272727273%\n",
      "False Positive Rate: 20.0%\n",
      "False Negative Rate: 14.285714285714285%\n",
      "False Discovery Rate: 10.0%\n",
      "Accuracy: 83.87096774193549%\n",
      "Validation AUC 0.8285714285714286\n",
      "Figure(432x288)\n"
     ]
    },
    {
     "data": {
      "image/png": "[encoded data removed]",
      "text/plain": [
       "<Figure size 432x288 with 2 Axes>"
      ]
     },
     "metadata": {
      "needs_background": "light"
     },
     "output_type": "display_data"
    },
    {
     "data": {
      "text/plain": [
       "<Figure size 432x288 with 0 Axes>"
      ]
     },
     "metadata": {},
     "output_type": "display_data"
    }
   ],
   "source": [
    "plot_roc(test_labels, best_target_predicted_binary)"
   ]
  },
  {
   "cell_type": "markdown",
   "metadata": {},
   "source": [
    "**Question:** How do these results differ from the original? Are these results better or worse? \n",
    "\n",
    "You might not always see an improvement. There are a few reasons for this result:\n",
    "\n",
    "- The model might already be good from the initial pass (what counts as *good* is subjective).\n",
    "- You don't have a large amount of data to train with.\n",
    "- You are using a *subset* of the hyperparameter tuning ranges to save time in this lab.\n",
    "\n",
    "Increasing the hyperparameter ranges (as recommended by the documentation) and running more than 30 jobs will typically improve the model. However, this process will take 2-3 hours to complete."
   ]
  },
  {
   "cell_type": "markdown",
   "metadata": {},
   "source": [
    "# Congratulations!\n",
    "\n",
    "You have completed this lab, and you can now end the lab by following the lab guide instructions.\n",
    "\n",
    "\n"
   ]
  }
 ],
 "metadata": {
  "kernelspec": {
   "display_name": "Python 3",
   "language": "python",
   "name": "python3"
  },
  "language_info": {
   "codemirror_mode": {
    "name": "ipython",
    "version": 3
   },
   "file_extension": ".py",
   "mimetype": "text/x-python",
   "name": "python",
   "nbconvert_exporter": "python",
   "pygments_lexer": "ipython3",
   "version": "3.6.9"
  }
 },
 "nbformat": 4,
 "nbformat_minor": 4
}
